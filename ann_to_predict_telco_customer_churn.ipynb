{
  "cells": [
    {
      "cell_type": "markdown",
      "metadata": {
        "id": "view-in-github",
        "colab_type": "text"
      },
      "source": [
        "<a href=\"https://colab.research.google.com/github/monika-chivate/exam/blob/main/ann_to_predict_telco_customer_churn.ipynb\" target=\"_parent\"><img src=\"https://colab.research.google.com/assets/colab-badge.svg\" alt=\"Open In Colab\"/></a>"
      ]
    },
    {
      "cell_type": "markdown",
      "metadata": {
        "papermill": {
          "duration": 0.055518,
          "end_time": "2020-10-22T12:12:18.740840",
          "exception": false,
          "start_time": "2020-10-22T12:12:18.685322",
          "status": "completed"
        },
        "tags": [],
        "id": "A9uZnbN9dEaE"
      },
      "source": [
        "![Customer_Churn_Header](https://raw.githubusercontent.com/satishgunjal/images/master/Customer_Churn_Header.png)\n",
        "<sub><sup>Img Source: NicePNG</sup></sub>\n",
        "\n",
        "# Index\n",
        "* [Business Problem](#1)\n",
        "* [Machine Learning Problem](#2)\n",
        "* [Approach](#3)\n",
        "* [Import Libraries](#4)\n",
        "* [Data Collection](#5)\n",
        "* [Exploratory Data Analysis](#6)\n",
        "  - [Understanding the Data](#7)\n",
        "  - [Data Visualization & Analysis](#8)  \n",
        "  - [Data Cleaning & Preprocessing](#9)\n",
        "    - [Feature Selection](#10)\n",
        "    - [Feature Encoding](#11)\n",
        "    - [Transform Categorical Values](#12)\n",
        "\t- [Scaling & Normalization](#13)\n",
        "* [Train Test Split](#14)\n",
        "* [Modeling](#15)\n",
        "  - [Model Building](#16)\n",
        "  - [Model Training](#17)\n",
        "  - [Model Evaluation](#18)\n",
        "* [Conclusion](#19)\n",
        "* [Reference](#20)"
      ]
    },
    {
      "cell_type": "markdown",
      "metadata": {
        "papermill": {
          "duration": 0.041112,
          "end_time": "2020-10-22T12:12:18.827615",
          "exception": false,
          "start_time": "2020-10-22T12:12:18.786503",
          "status": "completed"
        },
        "tags": [],
        "id": "J1gfACk0dEaQ"
      },
      "source": [
        "\n",
        "# Business Problem <a id =\"1\"></a>\n",
        "Based on the available data for the telco customers, predict customer behavior and develop focused customer retention programs.\n",
        "\n",
        "# Machine Learning Problem <a id =\"2\"></a>\n",
        "In order to develop the customer retention program it's important to understand the biggest contributor to customer churning. We will be able to identify those features using exploratory data analysis. We will also build the model which can predict whether that customer churn or not. So based on our EDA analysis the company can design the proactive program that will avoid all those factors which leads to customer attrition and using our ML model they can periodically check whether the customer can leave or not and accordingly take measures to retain the customer.\n",
        "\n",
        "# Approach <a id =\"3\"></a>\n",
        "After you clearly define the Machine Learning problem it's time to finalize the approach to achieve it. There are many algorithms, tools and libraries to choose from. In this case we are going to build Artificial Neural Network (ANN) to predict the customer attrition, also known as customer churn, customer turnover, or customer defection. We will use TensorFlow deep learning framework to build our model.\n",
        "\n",
        "Customer churn (rate) is the measure of the number of individuals or items moving out of a collective group over a specific period. It is one of two primary factors that determine the steady-state level of customers a business will support. \n",
        "\n",
        "Note: It's not required to use ANN for this problem you can also get very good results using Logistic Regression."
      ]
    },
    {
      "cell_type": "markdown",
      "metadata": {
        "papermill": {
          "duration": 0.042264,
          "end_time": "2020-10-22T12:12:18.911491",
          "exception": false,
          "start_time": "2020-10-22T12:12:18.869227",
          "status": "completed"
        },
        "tags": [],
        "id": "R2613CFTdEaT"
      },
      "source": [
        "# Import Libraries <a id =\"4\"></a>\n",
        "As per our final approach lets import all the necessary libraries that we will use over the course of this project."
      ]
    },
    {
      "cell_type": "code",
      "execution_count": null,
      "metadata": {
        "_cell_guid": "79c7e3d0-c299-4dcb-8224-4455121ee9b0",
        "_uuid": "d629ff2d2480ee46fbb7e2d37f6b5fab8052498a",
        "execution": {
          "iopub.execute_input": "2020-10-22T12:12:19.010630Z",
          "iopub.status.busy": "2020-10-22T12:12:19.009703Z",
          "iopub.status.idle": "2020-10-22T12:12:26.524526Z",
          "shell.execute_reply": "2020-10-22T12:12:26.523467Z"
        },
        "papermill": {
          "duration": 7.571015,
          "end_time": "2020-10-22T12:12:26.524721",
          "exception": false,
          "start_time": "2020-10-22T12:12:18.953706",
          "status": "completed"
        },
        "tags": [],
        "id": "ouzHAXn5dEaU"
      },
      "outputs": [],
      "source": [
        "import pandas as pd\n",
        "import numpy as np\n",
        "from sklearn.preprocessing import MinMaxScaler\n",
        "from sklearn.model_selection import train_test_split\n",
        "import tensorflow as tf\n",
        "from tensorflow import keras\n",
        "from sklearn.metrics import confusion_matrix, classification_report\n",
        "import seaborn as sns\n",
        "from matplotlib import pyplot as plt\n",
        "%matplotlib inline"
      ]
    },
    {
      "cell_type": "markdown",
      "metadata": {
        "papermill": {
          "duration": 0.041514,
          "end_time": "2020-10-22T12:12:26.607851",
          "exception": false,
          "start_time": "2020-10-22T12:12:26.566337",
          "status": "completed"
        },
        "tags": [],
        "id": "x7ndbaI9dEaY"
      },
      "source": [
        "# Data Collection <a id =\"5\"></a>\n",
        "Our data is in tabular format and source is CSV file. Since our data is available on Kaggle we don't have to do anything extra for collecting the data, we can go ahead and load the data using panda's 'read_csv' function."
      ]
    },
    {
      "cell_type": "code",
      "execution_count": null,
      "metadata": {
        "execution": {
          "iopub.execute_input": "2020-10-22T12:12:26.703164Z",
          "iopub.status.busy": "2020-10-22T12:12:26.702260Z",
          "iopub.status.idle": "2020-10-22T12:12:26.826949Z",
          "shell.execute_reply": "2020-10-22T12:12:26.827881Z"
        },
        "papermill": {
          "duration": 0.178313,
          "end_time": "2020-10-22T12:12:26.828103",
          "exception": false,
          "start_time": "2020-10-22T12:12:26.649790",
          "status": "completed"
        },
        "tags": [],
        "id": "unQjdPn5dEaZ",
        "outputId": "c7878a5d-4ea4-4ce0-e9c5-4cb84fd9ed99"
      },
      "outputs": [
        {
          "name": "stdout",
          "output_type": "stream",
          "text": [
            "No of rows/training examples: 7043, No of columns/features: 21\n"
          ]
        },
        {
          "data": {
            "text/html": [
              "<div>\n",
              "<style scoped>\n",
              "    .dataframe tbody tr th:only-of-type {\n",
              "        vertical-align: middle;\n",
              "    }\n",
              "\n",
              "    .dataframe tbody tr th {\n",
              "        vertical-align: top;\n",
              "    }\n",
              "\n",
              "    .dataframe thead th {\n",
              "        text-align: right;\n",
              "    }\n",
              "</style>\n",
              "<table border=\"1\" class=\"dataframe\">\n",
              "  <thead>\n",
              "    <tr style=\"text-align: right;\">\n",
              "      <th></th>\n",
              "      <th>customerID</th>\n",
              "      <th>gender</th>\n",
              "      <th>SeniorCitizen</th>\n",
              "      <th>Partner</th>\n",
              "      <th>Dependents</th>\n",
              "      <th>tenure</th>\n",
              "      <th>PhoneService</th>\n",
              "      <th>MultipleLines</th>\n",
              "      <th>InternetService</th>\n",
              "      <th>OnlineSecurity</th>\n",
              "      <th>...</th>\n",
              "      <th>DeviceProtection</th>\n",
              "      <th>TechSupport</th>\n",
              "      <th>StreamingTV</th>\n",
              "      <th>StreamingMovies</th>\n",
              "      <th>Contract</th>\n",
              "      <th>PaperlessBilling</th>\n",
              "      <th>PaymentMethod</th>\n",
              "      <th>MonthlyCharges</th>\n",
              "      <th>TotalCharges</th>\n",
              "      <th>Churn</th>\n",
              "    </tr>\n",
              "  </thead>\n",
              "  <tbody>\n",
              "    <tr>\n",
              "      <th>1093</th>\n",
              "      <td>8659-IOOPU</td>\n",
              "      <td>Female</td>\n",
              "      <td>0</td>\n",
              "      <td>Yes</td>\n",
              "      <td>Yes</td>\n",
              "      <td>71</td>\n",
              "      <td>Yes</td>\n",
              "      <td>Yes</td>\n",
              "      <td>Fiber optic</td>\n",
              "      <td>Yes</td>\n",
              "      <td>...</td>\n",
              "      <td>Yes</td>\n",
              "      <td>Yes</td>\n",
              "      <td>No</td>\n",
              "      <td>Yes</td>\n",
              "      <td>Two year</td>\n",
              "      <td>No</td>\n",
              "      <td>Electronic check</td>\n",
              "      <td>100.45</td>\n",
              "      <td>7159.7</td>\n",
              "      <td>No</td>\n",
              "    </tr>\n",
              "    <tr>\n",
              "      <th>3515</th>\n",
              "      <td>5206-HPJKM</td>\n",
              "      <td>Male</td>\n",
              "      <td>0</td>\n",
              "      <td>No</td>\n",
              "      <td>No</td>\n",
              "      <td>17</td>\n",
              "      <td>Yes</td>\n",
              "      <td>No</td>\n",
              "      <td>DSL</td>\n",
              "      <td>Yes</td>\n",
              "      <td>...</td>\n",
              "      <td>No</td>\n",
              "      <td>No</td>\n",
              "      <td>No</td>\n",
              "      <td>No</td>\n",
              "      <td>Month-to-month</td>\n",
              "      <td>Yes</td>\n",
              "      <td>Credit card (automatic)</td>\n",
              "      <td>55.50</td>\n",
              "      <td>934.15</td>\n",
              "      <td>No</td>\n",
              "    </tr>\n",
              "    <tr>\n",
              "      <th>114</th>\n",
              "      <td>5256-SKJGO</td>\n",
              "      <td>Female</td>\n",
              "      <td>0</td>\n",
              "      <td>Yes</td>\n",
              "      <td>Yes</td>\n",
              "      <td>64</td>\n",
              "      <td>No</td>\n",
              "      <td>No phone service</td>\n",
              "      <td>DSL</td>\n",
              "      <td>No</td>\n",
              "      <td>...</td>\n",
              "      <td>No</td>\n",
              "      <td>Yes</td>\n",
              "      <td>Yes</td>\n",
              "      <td>Yes</td>\n",
              "      <td>Two year</td>\n",
              "      <td>Yes</td>\n",
              "      <td>Electronic check</td>\n",
              "      <td>54.60</td>\n",
              "      <td>3423.5</td>\n",
              "      <td>No</td>\n",
              "    </tr>\n",
              "    <tr>\n",
              "      <th>6930</th>\n",
              "      <td>5570-PTWEH</td>\n",
              "      <td>Female</td>\n",
              "      <td>0</td>\n",
              "      <td>Yes</td>\n",
              "      <td>No</td>\n",
              "      <td>3</td>\n",
              "      <td>Yes</td>\n",
              "      <td>Yes</td>\n",
              "      <td>Fiber optic</td>\n",
              "      <td>No</td>\n",
              "      <td>...</td>\n",
              "      <td>No</td>\n",
              "      <td>No</td>\n",
              "      <td>No</td>\n",
              "      <td>No</td>\n",
              "      <td>Month-to-month</td>\n",
              "      <td>Yes</td>\n",
              "      <td>Credit card (automatic)</td>\n",
              "      <td>75.15</td>\n",
              "      <td>216.75</td>\n",
              "      <td>Yes</td>\n",
              "    </tr>\n",
              "    <tr>\n",
              "      <th>4097</th>\n",
              "      <td>9974-JFBHQ</td>\n",
              "      <td>Male</td>\n",
              "      <td>0</td>\n",
              "      <td>No</td>\n",
              "      <td>Yes</td>\n",
              "      <td>64</td>\n",
              "      <td>Yes</td>\n",
              "      <td>No</td>\n",
              "      <td>Fiber optic</td>\n",
              "      <td>No</td>\n",
              "      <td>...</td>\n",
              "      <td>No</td>\n",
              "      <td>Yes</td>\n",
              "      <td>Yes</td>\n",
              "      <td>Yes</td>\n",
              "      <td>Month-to-month</td>\n",
              "      <td>Yes</td>\n",
              "      <td>Credit card (automatic)</td>\n",
              "      <td>99.15</td>\n",
              "      <td>6171.2</td>\n",
              "      <td>No</td>\n",
              "    </tr>\n",
              "  </tbody>\n",
              "</table>\n",
              "<p>5 rows × 21 columns</p>\n",
              "</div>"
            ],
            "text/plain": [
              "      customerID  gender  SeniorCitizen Partner Dependents  tenure  \\\n",
              "1093  8659-IOOPU  Female              0     Yes        Yes      71   \n",
              "3515  5206-HPJKM    Male              0      No         No      17   \n",
              "114   5256-SKJGO  Female              0     Yes        Yes      64   \n",
              "6930  5570-PTWEH  Female              0     Yes         No       3   \n",
              "4097  9974-JFBHQ    Male              0      No        Yes      64   \n",
              "\n",
              "     PhoneService     MultipleLines InternetService OnlineSecurity  ...  \\\n",
              "1093          Yes               Yes     Fiber optic            Yes  ...   \n",
              "3515          Yes                No             DSL            Yes  ...   \n",
              "114            No  No phone service             DSL             No  ...   \n",
              "6930          Yes               Yes     Fiber optic             No  ...   \n",
              "4097          Yes                No     Fiber optic             No  ...   \n",
              "\n",
              "     DeviceProtection TechSupport StreamingTV StreamingMovies        Contract  \\\n",
              "1093              Yes         Yes          No             Yes        Two year   \n",
              "3515               No          No          No              No  Month-to-month   \n",
              "114                No         Yes         Yes             Yes        Two year   \n",
              "6930               No          No          No              No  Month-to-month   \n",
              "4097               No         Yes         Yes             Yes  Month-to-month   \n",
              "\n",
              "     PaperlessBilling            PaymentMethod MonthlyCharges  TotalCharges  \\\n",
              "1093               No         Electronic check         100.45        7159.7   \n",
              "3515              Yes  Credit card (automatic)          55.50        934.15   \n",
              "114               Yes         Electronic check          54.60        3423.5   \n",
              "6930              Yes  Credit card (automatic)          75.15        216.75   \n",
              "4097              Yes  Credit card (automatic)          99.15        6171.2   \n",
              "\n",
              "     Churn  \n",
              "1093    No  \n",
              "3515    No  \n",
              "114     No  \n",
              "6930   Yes  \n",
              "4097    No  \n",
              "\n",
              "[5 rows x 21 columns]"
            ]
          },
          "execution_count": 2,
          "metadata": {},
          "output_type": "execute_result"
        }
      ],
      "source": [
        "df = pd.read_csv(\"/kaggle/input/telco-customer-churn/WA_Fn-UseC_-Telco-Customer-Churn.csv\")\n",
        "print(f'No of rows/training examples: {df.shape[0]}, No of columns/features: {df.shape[1]}')\n",
        "df.sample(5)"
      ]
    },
    {
      "cell_type": "markdown",
      "metadata": {
        "papermill": {
          "duration": 0.042686,
          "end_time": "2020-10-22T12:12:26.914344",
          "exception": false,
          "start_time": "2020-10-22T12:12:26.871658",
          "status": "completed"
        },
        "tags": [],
        "id": "5SOyV_3QdEac"
      },
      "source": [
        "\n",
        "# Exploratory Data Analysis <a id =\"6\"></a>\n",
        "\n",
        "## Understanding the Data <a id =\"7\"></a>\n",
        "* Data set contains 7,043 customers and 21 data points on each customer. \n",
        "* Each row represents a customer, each column contains the customer’s attributes.\n",
        "* Column Churn contain the class labels value, 'Yes' means customer will churn else 'No'\n",
        "* Customer attributes/features are as below\n",
        "\n",
        "| Column Name | Description |\n",
        "|:---|:--- |\n",
        "| customerID | Customer ID |\n",
        "| gender | Whether the customer is a male or a female |\n",
        "| SeniorCitizen | Whether the customer is a senior citizen or not (1, 0) |\n",
        "| Partner | Whether the customer has a partner or not (Yes, No) |\n",
        "| Dependents | Whether the customer has dependents or not (Yes, No) |\n",
        "| tenure | Number of months the customer has stayed with the company |\n",
        "| PhoneService | Whether the customer has a phone service or not (Yes, No) |\n",
        "| MultipleLines | Whether the customer has multiple lines or not (Yes, No, No phone service) |\n",
        "| InternetService | Customer’s internet service provider (DSL, Fiber optic, No) |\n",
        "| OnlineSecurity | Whether the customer has online security or not (Yes, No, No internet service)\n",
        "| OnlineBackup | Whether the customer has online backup or not (Yes, No, No internet service) |\n",
        "| DeviceProtection | Whether the customer has device protection or not (Yes, No, No internet service) |\n",
        "| TechSupport | Whether the customer has tech support or not (Yes, No, No internet service) |\n",
        "| StreamingTV | Whether the customer has streaming TV or not (Yes, No, No internet service) |\n",
        "| StreamingMovies | Whether the customer has streaming movies or not (Yes, No, No internet service) |\n",
        "| Contract | The contract term of the customer (Month-to-month, One year, Two year) |\n",
        "| PaperlessBilling | Whether the customer has paperless billing or not (Yes, No) |\n",
        "| PaymentMethod | The customer’s payment method (Electronic check, Mailed check, Bank transfer (automatic), Credit card (automatic)) |\n",
        "| MonthlyCharges | The amount charged to the customer monthly |\n",
        "| TotalCharges | The total amount charged to the customer |\n",
        "\n",
        "## Data Visualization & Analysis <a id =\"8\"></a>\n",
        "* In this step we will try to visualize the data based on important features.\n",
        "* Most important loss is losing the loyal customers. Using feature 'tenure' we can explore such customers.\n",
        "* We will use histogram to plot the tenure and whether customer leaving or not.\n",
        "\n",
        "Let review the statistics on the current data "
      ]
    },
    {
      "cell_type": "code",
      "execution_count": null,
      "metadata": {
        "execution": {
          "iopub.execute_input": "2020-10-22T12:12:27.011239Z",
          "iopub.status.busy": "2020-10-22T12:12:27.010327Z",
          "iopub.status.idle": "2020-10-22T12:12:27.030770Z",
          "shell.execute_reply": "2020-10-22T12:12:27.031402Z"
        },
        "papermill": {
          "duration": 0.073417,
          "end_time": "2020-10-22T12:12:27.031620",
          "exception": false,
          "start_time": "2020-10-22T12:12:26.958203",
          "status": "completed"
        },
        "tags": [],
        "id": "NLqHdHUOdEaf",
        "outputId": "137a8309-1e30-46ee-d2f9-5ddc0d17c769"
      },
      "outputs": [
        {
          "data": {
            "text/html": [
              "<div>\n",
              "<style scoped>\n",
              "    .dataframe tbody tr th:only-of-type {\n",
              "        vertical-align: middle;\n",
              "    }\n",
              "\n",
              "    .dataframe tbody tr th {\n",
              "        vertical-align: top;\n",
              "    }\n",
              "\n",
              "    .dataframe thead th {\n",
              "        text-align: right;\n",
              "    }\n",
              "</style>\n",
              "<table border=\"1\" class=\"dataframe\">\n",
              "  <thead>\n",
              "    <tr style=\"text-align: right;\">\n",
              "      <th></th>\n",
              "      <th>SeniorCitizen</th>\n",
              "      <th>tenure</th>\n",
              "      <th>MonthlyCharges</th>\n",
              "    </tr>\n",
              "  </thead>\n",
              "  <tbody>\n",
              "    <tr>\n",
              "      <th>count</th>\n",
              "      <td>7043.000000</td>\n",
              "      <td>7043.000000</td>\n",
              "      <td>7043.000000</td>\n",
              "    </tr>\n",
              "    <tr>\n",
              "      <th>mean</th>\n",
              "      <td>0.162147</td>\n",
              "      <td>32.371149</td>\n",
              "      <td>64.761692</td>\n",
              "    </tr>\n",
              "    <tr>\n",
              "      <th>std</th>\n",
              "      <td>0.368612</td>\n",
              "      <td>24.559481</td>\n",
              "      <td>30.090047</td>\n",
              "    </tr>\n",
              "    <tr>\n",
              "      <th>min</th>\n",
              "      <td>0.000000</td>\n",
              "      <td>0.000000</td>\n",
              "      <td>18.250000</td>\n",
              "    </tr>\n",
              "    <tr>\n",
              "      <th>25%</th>\n",
              "      <td>0.000000</td>\n",
              "      <td>9.000000</td>\n",
              "      <td>35.500000</td>\n",
              "    </tr>\n",
              "    <tr>\n",
              "      <th>50%</th>\n",
              "      <td>0.000000</td>\n",
              "      <td>29.000000</td>\n",
              "      <td>70.350000</td>\n",
              "    </tr>\n",
              "    <tr>\n",
              "      <th>75%</th>\n",
              "      <td>0.000000</td>\n",
              "      <td>55.000000</td>\n",
              "      <td>89.850000</td>\n",
              "    </tr>\n",
              "    <tr>\n",
              "      <th>max</th>\n",
              "      <td>1.000000</td>\n",
              "      <td>72.000000</td>\n",
              "      <td>118.750000</td>\n",
              "    </tr>\n",
              "  </tbody>\n",
              "</table>\n",
              "</div>"
            ],
            "text/plain": [
              "       SeniorCitizen       tenure  MonthlyCharges\n",
              "count    7043.000000  7043.000000     7043.000000\n",
              "mean        0.162147    32.371149       64.761692\n",
              "std         0.368612    24.559481       30.090047\n",
              "min         0.000000     0.000000       18.250000\n",
              "25%         0.000000     9.000000       35.500000\n",
              "50%         0.000000    29.000000       70.350000\n",
              "75%         0.000000    55.000000       89.850000\n",
              "max         1.000000    72.000000      118.750000"
            ]
          },
          "execution_count": 3,
          "metadata": {},
          "output_type": "execute_result"
        }
      ],
      "source": [
        "df.describe()"
      ]
    },
    {
      "cell_type": "markdown",
      "metadata": {
        "papermill": {
          "duration": 0.044236,
          "end_time": "2020-10-22T12:12:27.121247",
          "exception": false,
          "start_time": "2020-10-22T12:12:27.077011",
          "status": "completed"
        },
        "tags": [],
        "id": "EhTF8GmFdEah"
      },
      "source": [
        "As you can see from above data that tenure and MonthlyCharges values differ by order of magnitude, we will have to address this problem and normalize the data before modeling. Also, it will be interesting to see the effect of MonthlyCharges and tenure on the customer churn.\n",
        "Now let's check for NA or missing values."
      ]
    },
    {
      "cell_type": "code",
      "execution_count": null,
      "metadata": {
        "execution": {
          "iopub.execute_input": "2020-10-22T12:12:27.238878Z",
          "iopub.status.busy": "2020-10-22T12:12:27.237885Z",
          "iopub.status.idle": "2020-10-22T12:12:27.248117Z",
          "shell.execute_reply": "2020-10-22T12:12:27.248690Z"
        },
        "papermill": {
          "duration": 0.08439,
          "end_time": "2020-10-22T12:12:27.248891",
          "exception": false,
          "start_time": "2020-10-22T12:12:27.164501",
          "status": "completed"
        },
        "tags": [],
        "id": "KbUXGpusdEaj",
        "outputId": "9325d52d-f06f-49de-e6f6-10d16a0be80b"
      },
      "outputs": [
        {
          "data": {
            "text/plain": [
              "customerID          0\n",
              "gender              0\n",
              "SeniorCitizen       0\n",
              "Partner             0\n",
              "Dependents          0\n",
              "tenure              0\n",
              "PhoneService        0\n",
              "MultipleLines       0\n",
              "InternetService     0\n",
              "OnlineSecurity      0\n",
              "OnlineBackup        0\n",
              "DeviceProtection    0\n",
              "TechSupport         0\n",
              "StreamingTV         0\n",
              "StreamingMovies     0\n",
              "Contract            0\n",
              "PaperlessBilling    0\n",
              "PaymentMethod       0\n",
              "MonthlyCharges      0\n",
              "TotalCharges        0\n",
              "Churn               0\n",
              "dtype: int64"
            ]
          },
          "execution_count": 4,
          "metadata": {},
          "output_type": "execute_result"
        }
      ],
      "source": [
        "df.isna().sum()"
      ]
    },
    {
      "cell_type": "markdown",
      "metadata": {
        "papermill": {
          "duration": 0.043373,
          "end_time": "2020-10-22T12:12:27.337443",
          "exception": false,
          "start_time": "2020-10-22T12:12:27.294070",
          "status": "completed"
        },
        "tags": [],
        "id": "0gPnNGiTdEal"
      },
      "source": [
        "This is wonderful sign, there are no missing values in the data. One of the most important data is churn status of each customer. Let's print the number of customer  that churned(Yes) and not churned(No)"
      ]
    },
    {
      "cell_type": "code",
      "execution_count": null,
      "metadata": {
        "execution": {
          "iopub.execute_input": "2020-10-22T12:12:27.436791Z",
          "iopub.status.busy": "2020-10-22T12:12:27.435739Z",
          "iopub.status.idle": "2020-10-22T12:12:27.641917Z",
          "shell.execute_reply": "2020-10-22T12:12:27.642483Z"
        },
        "papermill": {
          "duration": 0.26127,
          "end_time": "2020-10-22T12:12:27.642679",
          "exception": false,
          "start_time": "2020-10-22T12:12:27.381409",
          "status": "completed"
        },
        "tags": [],
        "id": "6S5V4Z4HdEal",
        "outputId": "694fec4e-b311-43fd-eba3-06ac188fb3e3"
      },
      "outputs": [
        {
          "data": {
            "text/plain": [
              "Text(0.5, 1.0, '26.54 % (1869 nos) of cust will churn & 73.46 % (5174 nos) of cust will retain')"
            ]
          },
          "execution_count": 5,
          "metadata": {},
          "output_type": "execute_result"
        },
        {
          "data": {
            "image/png": "[encoded data removed]",
            "text/plain": [
              "<Figure size 720x432 with 1 Axes>"
            ]
          },
          "metadata": {
            "needs_background": "light"
          },
          "output_type": "display_data"
        }
      ],
      "source": [
        "# Count of customer that will churn\n",
        "cust_churn_yes_count = df[df.Churn == 'Yes'].shape[0]\n",
        "# Count of customer that will not churn (retain)\n",
        "cust_churn_no_count = df[df.Churn == 'No'].shape[0]\n",
        "\n",
        "# Percentage of customer that will churn\n",
        "cust_churn_yes_percent = round((cust_churn_yes_count / (cust_churn_yes_count + cust_churn_no_count) * 100),2)\n",
        "# Percentage of customer that will not churn (retain)\n",
        "cust_churn_no_percent = round((cust_churn_no_count / (cust_churn_yes_count + cust_churn_no_count) * 100 ),2)\n",
        "\n",
        "plt.figure(figsize=(10,6))\n",
        "ax = sns.countplot(df['Churn'])\n",
        "ax.set_title(f'{cust_churn_yes_percent} % ({cust_churn_yes_count} nos) of cust will churn & {cust_churn_no_percent} % ({cust_churn_no_count} nos) of cust will retain')"
      ]
    },
    {
      "cell_type": "markdown",
      "metadata": {
        "papermill": {
          "duration": 0.045076,
          "end_time": "2020-10-22T12:12:27.733446",
          "exception": false,
          "start_time": "2020-10-22T12:12:27.688370",
          "status": "completed"
        },
        "tags": [],
        "id": "7nLV0lB1dEan"
      },
      "source": [
        "As you can see we have imbalanced data, most of the data contains class label 'No' means customer will remain with the company. If out of all the available data 73.46% customers are going to stay with the company, then for any given input we can say with 73% accuracy that the customer will stay with the company. So our first objective is to get the model's accuracy more than 73%, which is better than just doing the guess work.\n",
        "\n",
        "Note that it's extremely important to get good quality balanced data so that the model will be generalized well enough to perform better in real life scenario. In our case we have to go ahead with whatever data is available and make the best out of it.\n",
        "\n",
        "Now let's look at the effect of other available features on the customer retention."
      ]
    },
    {
      "cell_type": "code",
      "execution_count": null,
      "metadata": {
        "execution": {
          "iopub.execute_input": "2020-10-22T12:12:27.832315Z",
          "iopub.status.busy": "2020-10-22T12:12:27.831500Z",
          "iopub.status.idle": "2020-10-22T12:12:28.006364Z",
          "shell.execute_reply": "2020-10-22T12:12:28.005697Z"
        },
        "papermill": {
          "duration": 0.227847,
          "end_time": "2020-10-22T12:12:28.006490",
          "exception": false,
          "start_time": "2020-10-22T12:12:27.778643",
          "status": "completed"
        },
        "tags": [],
        "id": "7qkhxWYddEao",
        "outputId": "65bd08fa-f76d-4d59-b106-23a35439d3ca"
      },
      "outputs": [
        {
          "data": {
            "text/plain": [
              "Text(0.5, 1.0, 'Effect of Gender on customer churn')"
            ]
          },
          "execution_count": 6,
          "metadata": {},
          "output_type": "execute_result"
        },
        {
          "data": {
            "image/png": "[encoded data removed]",
            "text/plain": [
              "<Figure size 720x432 with 1 Axes>"
            ]
          },
          "metadata": {
            "needs_background": "light"
          },
          "output_type": "display_data"
        }
      ],
      "source": [
        "plt.figure(figsize=(10,6))\n",
        "ax = sns.countplot(x= 'gender', hue='Churn', data=df)\n",
        "ax.set_title(f'Effect of Gender on customer churn')"
      ]
    },
    {
      "cell_type": "markdown",
      "metadata": {
        "papermill": {
          "duration": 0.045862,
          "end_time": "2020-10-22T12:12:28.098777",
          "exception": false,
          "start_time": "2020-10-22T12:12:28.052915",
          "status": "completed"
        },
        "tags": [],
        "id": "ILup9yY7dEao"
      },
      "source": [
        "As you can see customer gender doesn't seem to affecting churn count. Since we have separate columns for senior citizens let check the churn rate for them."
      ]
    },
    {
      "cell_type": "code",
      "execution_count": null,
      "metadata": {
        "execution": {
          "iopub.execute_input": "2020-10-22T12:12:28.202227Z",
          "iopub.status.busy": "2020-10-22T12:12:28.200936Z",
          "iopub.status.idle": "2020-10-22T12:12:28.375483Z",
          "shell.execute_reply": "2020-10-22T12:12:28.374829Z"
        },
        "papermill": {
          "duration": 0.230675,
          "end_time": "2020-10-22T12:12:28.375648",
          "exception": false,
          "start_time": "2020-10-22T12:12:28.144973",
          "status": "completed"
        },
        "tags": [],
        "id": "41UTWYE6dEap",
        "outputId": "d4a048fa-e49b-4450-c1e4-0720b22e4df9"
      },
      "outputs": [
        {
          "data": {
            "text/plain": [
              "Text(0.5, 0, 'SeniorCitizens(0: No, 1: Yes)')"
            ]
          },
          "execution_count": 7,
          "metadata": {},
          "output_type": "execute_result"
        },
        {
          "data": {
            "image/png": "[encoded data removed]",
            "text/plain": [
              "<Figure size 720x432 with 1 Axes>"
            ]
          },
          "metadata": {
            "needs_background": "light"
          },
          "output_type": "display_data"
        }
      ],
      "source": [
        "plt.figure(figsize=(10,6))\n",
        "ax = sns.countplot(x= 'SeniorCitizen', hue='Churn', data=df)\n",
        "ax.set_title(f'SeniorCitizens have higher customer churn')\n",
        "plt.xlabel('SeniorCitizens(0: No, 1: Yes)')"
      ]
    },
    {
      "cell_type": "markdown",
      "metadata": {
        "papermill": {
          "duration": 0.048215,
          "end_time": "2020-10-22T12:12:28.472496",
          "exception": false,
          "start_time": "2020-10-22T12:12:28.424281",
          "status": "completed"
        },
        "tags": [],
        "id": "lpBELe20dEaq"
      },
      "source": [
        "As we can see from above graph that senior citizens though being few in number have higher customer churn percentage. Now let check the effect of internet service on churn count."
      ]
    },
    {
      "cell_type": "code",
      "execution_count": null,
      "metadata": {
        "execution": {
          "iopub.execute_input": "2020-10-22T12:12:28.579240Z",
          "iopub.status.busy": "2020-10-22T12:12:28.578281Z",
          "iopub.status.idle": "2020-10-22T12:12:28.780867Z",
          "shell.execute_reply": "2020-10-22T12:12:28.780069Z"
        },
        "papermill": {
          "duration": 0.259365,
          "end_time": "2020-10-22T12:12:28.781017",
          "exception": false,
          "start_time": "2020-10-22T12:12:28.521652",
          "status": "completed"
        },
        "tags": [],
        "id": "xeyEFr2kdEar",
        "outputId": "5716ee13-83ed-481d-f67c-6757e1b6a267"
      },
      "outputs": [
        {
          "data": {
            "text/plain": [
              "Text(0.5, 1.0, 'Effect of internet service on customer churn')"
            ]
          },
          "execution_count": 8,
          "metadata": {},
          "output_type": "execute_result"
        },
        {
          "data": {
            "image/png": "[encoded data removed]",
            "text/plain": [
              "<Figure size 720x432 with 1 Axes>"
            ]
          },
          "metadata": {
            "needs_background": "light"
          },
          "output_type": "display_data"
        }
      ],
      "source": [
        "plt.figure(figsize=(10,6))\n",
        "ax = sns.countplot(x= 'InternetService', hue='Churn', data=df)\n",
        "ax.set_title(f'Effect of internet service on customer churn')"
      ]
    },
    {
      "cell_type": "markdown",
      "metadata": {
        "papermill": {
          "duration": 0.050035,
          "end_time": "2020-10-22T12:12:28.882078",
          "exception": false,
          "start_time": "2020-10-22T12:12:28.832043",
          "status": "completed"
        },
        "tags": [],
        "id": "tR9FhnzUdEas"
      },
      "source": [
        "As we can see from above graph that customers who are using DSL internet service tends to be more loyal as compare to fiber optic using customers. There can be many reasons for this and an accurate conclusion can be drawn by analyzing DSL and fiber optic data in detail. So my suggestion to the company is to find the shortcoming in the DSL service and keep doing what they're doing with fiber optic service. Also note that if customers are not using nay internet service then churn count reduces even further. So over all the company should have a look at the internet service offerings and try to fix bring down the shortcomings. \n",
        "\n",
        "Now let's have a look at the effect of tenure on customer churn."
      ]
    },
    {
      "cell_type": "code",
      "execution_count": null,
      "metadata": {
        "execution": {
          "iopub.execute_input": "2020-10-22T12:12:28.995471Z",
          "iopub.status.busy": "2020-10-22T12:12:28.994629Z",
          "iopub.status.idle": "2020-10-22T12:12:29.278913Z",
          "shell.execute_reply": "2020-10-22T12:12:29.278248Z"
        },
        "papermill": {
          "duration": 0.346528,
          "end_time": "2020-10-22T12:12:29.279064",
          "exception": false,
          "start_time": "2020-10-22T12:12:28.932536",
          "status": "completed"
        },
        "tags": [],
        "id": "mQmPPt3YdEas",
        "outputId": "ca6b11db-4046-4ed4-cb89-089ff0f9fbb5"
      },
      "outputs": [
        {
          "data": {
            "text/plain": [
              "<matplotlib.legend.Legend at 0x7f1a6ac79550>"
            ]
          },
          "execution_count": 9,
          "metadata": {},
          "output_type": "execute_result"
        },
        {
          "data": {
            "image/png": "[encoded data removed]",
            "text/plain": [
              "<Figure size 720x432 with 1 Axes>"
            ]
          },
          "metadata": {
            "needs_background": "light"
          },
          "output_type": "display_data"
        }
      ],
      "source": [
        "tenure_churn_yes = df[df.Churn == 'Yes'].tenure\n",
        "tenure_churn_no = df[df.Churn == 'No'].tenure\n",
        "\n",
        "plt.figure(figsize=(10,6))\n",
        "plt.hist([tenure_churn_yes, tenure_churn_no], color=['orange', 'blue'], label= ['Leaving', 'Staying'])\n",
        "plt.xlabel('Tenure(Months)')\n",
        "plt.ylabel('No of Customers')\n",
        "plt.title('Customers Staying vs Leaving Based on Tenure')\n",
        "plt.legend()"
      ]
    },
    {
      "cell_type": "markdown",
      "metadata": {
        "papermill": {
          "duration": 0.051096,
          "end_time": "2020-10-22T12:12:29.382469",
          "exception": false,
          "start_time": "2020-10-22T12:12:29.331373",
          "status": "completed"
        },
        "tags": [],
        "id": "Kr6EZKmXdEau"
      },
      "source": [
        "From above histogram it's clear that more number of customers tend to stay with the company after the first 10 months of service. So the company can concentrate more on the new customer and their initial experience with the service to increase the customer retention.\n",
        "\n",
        "Let also visualize the customer churn with respect to monthly charges."
      ]
    },
    {
      "cell_type": "code",
      "execution_count": null,
      "metadata": {
        "execution": {
          "iopub.execute_input": "2020-10-22T12:12:29.497394Z",
          "iopub.status.busy": "2020-10-22T12:12:29.496541Z",
          "iopub.status.idle": "2020-10-22T12:12:29.775846Z",
          "shell.execute_reply": "2020-10-22T12:12:29.775151Z"
        },
        "papermill": {
          "duration": 0.342162,
          "end_time": "2020-10-22T12:12:29.776000",
          "exception": false,
          "start_time": "2020-10-22T12:12:29.433838",
          "status": "completed"
        },
        "tags": [],
        "id": "IEKwbUT1dEau",
        "outputId": "726a790c-d75a-4037-80ac-6702668c0f77"
      },
      "outputs": [
        {
          "data": {
            "text/plain": [
              "<matplotlib.legend.Legend at 0x7f1a6abcbe90>"
            ]
          },
          "execution_count": 10,
          "metadata": {},
          "output_type": "execute_result"
        },
        {
          "data": {
            "image/png": "[encoded data removed]",
            "text/plain": [
              "<Figure size 720x432 with 1 Axes>"
            ]
          },
          "metadata": {
            "needs_background": "light"
          },
          "output_type": "display_data"
        }
      ],
      "source": [
        "monthly_charges_churn_yes = df[df.Churn == 'Yes'].MonthlyCharges\n",
        "monthly_charges_churn_no = df[df.Churn == 'No'].MonthlyCharges\n",
        "\n",
        "\n",
        "plt.figure(figsize=(10,6))\n",
        "plt.hist([monthly_charges_churn_yes, monthly_charges_churn_no], color=['orange', 'blue'], label= ['Leaving', 'Staying'])\n",
        "plt.xlabel('Monthly Charges')\n",
        "plt.ylabel('No of Customers')\n",
        "plt.title('Customers Staying vs Leaving Based on Monthly Charges')\n",
        "plt.legend()"
      ]
    },
    {
      "cell_type": "markdown",
      "metadata": {
        "papermill": {
          "duration": 0.052344,
          "end_time": "2020-10-22T12:12:29.881204",
          "exception": false,
          "start_time": "2020-10-22T12:12:29.828860",
          "status": "completed"
        },
        "tags": [],
        "id": "QddNMlrSdEav"
      },
      "source": [
        "As you see from above histogram for lowest monthly rates(between 20 and 40) highest is the customer retention. But customer attrition increases for monthly charges between 70 and 100. So the company can reduce the monthly charges or add more value to the service for the same price to increase the customer retention.\n",
        "\n",
        "## Data Cleaning & Preprocessing <a id =\"9\"></a>\n",
        "Data visualization gave us idea about the features which are affecting the customer churn. Now let's clean and precess the data to make it ready for modeling.\n",
        "\n",
        "### Feature Selection <a id =\"10\"></a>\n",
        "It's not necessary that all the given features are going to help predict customer churn. In our case customer id is one of that feature which will not add any value to our analysis or the model's accuracy. So let's remove the customer id columns from the dataset. Note that whenever I make major change in dataset I create new pandas dataframe and increase the number by 1."
      ]
    },
    {
      "cell_type": "code",
      "execution_count": null,
      "metadata": {
        "execution": {
          "iopub.execute_input": "2020-10-22T12:12:29.999093Z",
          "iopub.status.busy": "2020-10-22T12:12:29.996158Z",
          "iopub.status.idle": "2020-10-22T12:12:30.004162Z",
          "shell.execute_reply": "2020-10-22T12:12:30.003477Z"
        },
        "papermill": {
          "duration": 0.070041,
          "end_time": "2020-10-22T12:12:30.004305",
          "exception": false,
          "start_time": "2020-10-22T12:12:29.934264",
          "status": "completed"
        },
        "tags": [],
        "id": "z5Xg1fK3dEaw",
        "outputId": "4b6e1008-70c3-4a0d-fb4c-6b91d4253ecb"
      },
      "outputs": [
        {
          "data": {
            "text/plain": [
              "(7043, 20)"
            ]
          },
          "execution_count": 11,
          "metadata": {},
          "output_type": "execute_result"
        }
      ],
      "source": [
        "df1 = df.drop('customerID', axis = 'columns')\n",
        "df1.shape # Print the shape of new dataframe"
      ]
    },
    {
      "cell_type": "markdown",
      "metadata": {
        "papermill": {
          "duration": 0.055107,
          "end_time": "2020-10-22T12:12:30.114464",
          "exception": false,
          "start_time": "2020-10-22T12:12:30.059357",
          "status": "completed"
        },
        "tags": [],
        "id": "G2B6hgAddEax"
      },
      "source": [
        "Now our dataset contains 7043 training examples and 20 features. Now let's review the data types of the features.\n",
        "\n",
        "### Feature Encoding <a id =\"11\"></a>\n",
        "* One of the important task is to make sure that each feature has datatype as per the data it represents. In this case 'MonthlyCharge' feature has float64 datatype but 'TotalCharges' has 'object' data type. \n",
        "* We will first print the datatype of all the columns and depending on the value it contains we will use either label or one hot encoding to convert the features to numeric format"
      ]
    },
    {
      "cell_type": "code",
      "execution_count": null,
      "metadata": {
        "execution": {
          "iopub.execute_input": "2020-10-22T12:12:30.232600Z",
          "iopub.status.busy": "2020-10-22T12:12:30.231539Z",
          "iopub.status.idle": "2020-10-22T12:12:30.237106Z",
          "shell.execute_reply": "2020-10-22T12:12:30.236257Z"
        },
        "papermill": {
          "duration": 0.068465,
          "end_time": "2020-10-22T12:12:30.237260",
          "exception": false,
          "start_time": "2020-10-22T12:12:30.168795",
          "status": "completed"
        },
        "tags": [],
        "id": "ohw2yv8ydEax",
        "outputId": "d1d1e34e-f491-4244-ad55-4cd4909a20d4"
      },
      "outputs": [
        {
          "data": {
            "text/plain": [
              "gender               object\n",
              "SeniorCitizen         int64\n",
              "Partner              object\n",
              "Dependents           object\n",
              "tenure                int64\n",
              "PhoneService         object\n",
              "MultipleLines        object\n",
              "InternetService      object\n",
              "OnlineSecurity       object\n",
              "OnlineBackup         object\n",
              "DeviceProtection     object\n",
              "TechSupport          object\n",
              "StreamingTV          object\n",
              "StreamingMovies      object\n",
              "Contract             object\n",
              "PaperlessBilling     object\n",
              "PaymentMethod        object\n",
              "MonthlyCharges      float64\n",
              "TotalCharges         object\n",
              "Churn                object\n",
              "dtype: object"
            ]
          },
          "execution_count": 12,
          "metadata": {},
          "output_type": "execute_result"
        }
      ],
      "source": [
        "df1.dtypes"
      ]
    },
    {
      "cell_type": "markdown",
      "metadata": {
        "papermill": {
          "duration": 0.054456,
          "end_time": "2020-10-22T12:12:30.348215",
          "exception": false,
          "start_time": "2020-10-22T12:12:30.293759",
          "status": "completed"
        },
        "tags": [],
        "id": "KKKoW3nWdEax"
      },
      "source": [
        "Let check the values present in 'TotalCharges' column and change the data type to numeric. "
      ]
    },
    {
      "cell_type": "code",
      "execution_count": null,
      "metadata": {
        "execution": {
          "iopub.execute_input": "2020-10-22T12:12:30.464595Z",
          "iopub.status.busy": "2020-10-22T12:12:30.463569Z",
          "iopub.status.idle": "2020-10-22T12:12:30.470653Z",
          "shell.execute_reply": "2020-10-22T12:12:30.469870Z"
        },
        "papermill": {
          "duration": 0.067951,
          "end_time": "2020-10-22T12:12:30.470794",
          "exception": false,
          "start_time": "2020-10-22T12:12:30.402843",
          "status": "completed"
        },
        "tags": [],
        "id": "jrlygFQLdEay",
        "outputId": "fd552411-6ffc-48ec-daaf-f83a54f3106d"
      },
      "outputs": [
        {
          "data": {
            "text/plain": [
              "array(['29.85', '1889.5', '108.15', ..., '346.45', '306.6', '6844.5'],\n",
              "      dtype=object)"
            ]
          },
          "execution_count": 13,
          "metadata": {},
          "output_type": "execute_result"
        }
      ],
      "source": [
        "# Print the values in TotalCharges\n",
        "df1.TotalCharges.unique()"
      ]
    },
    {
      "cell_type": "markdown",
      "metadata": {
        "papermill": {
          "duration": 0.05393,
          "end_time": "2020-10-22T12:12:30.579549",
          "exception": false,
          "start_time": "2020-10-22T12:12:30.525619",
          "status": "completed"
        },
        "tags": [],
        "id": "nUZYlViedEay"
      },
      "source": [
        "As you can see total charges value is in string format. But there is one more interesting thing about these values. For 11 customers total charges value is blank!! To know more about it lets print those values."
      ]
    },
    {
      "cell_type": "code",
      "execution_count": null,
      "metadata": {
        "execution": {
          "iopub.execute_input": "2020-10-22T12:12:30.740500Z",
          "iopub.status.busy": "2020-10-22T12:12:30.739457Z",
          "iopub.status.idle": "2020-10-22T12:12:30.745868Z",
          "shell.execute_reply": "2020-10-22T12:12:30.745130Z"
        },
        "papermill": {
          "duration": 0.110681,
          "end_time": "2020-10-22T12:12:30.746010",
          "exception": false,
          "start_time": "2020-10-22T12:12:30.635329",
          "status": "completed"
        },
        "tags": [],
        "id": "su5ajVOmdEaz",
        "outputId": "af307208-a3c9-40fe-8fd4-38d3015f6ec0"
      },
      "outputs": [
        {
          "data": {
            "text/html": [
              "<div>\n",
              "<style scoped>\n",
              "    .dataframe tbody tr th:only-of-type {\n",
              "        vertical-align: middle;\n",
              "    }\n",
              "\n",
              "    .dataframe tbody tr th {\n",
              "        vertical-align: top;\n",
              "    }\n",
              "\n",
              "    .dataframe thead th {\n",
              "        text-align: right;\n",
              "    }\n",
              "</style>\n",
              "<table border=\"1\" class=\"dataframe\">\n",
              "  <thead>\n",
              "    <tr style=\"text-align: right;\">\n",
              "      <th></th>\n",
              "      <th>gender</th>\n",
              "      <th>SeniorCitizen</th>\n",
              "      <th>Partner</th>\n",
              "      <th>Dependents</th>\n",
              "      <th>tenure</th>\n",
              "      <th>PhoneService</th>\n",
              "      <th>MultipleLines</th>\n",
              "      <th>InternetService</th>\n",
              "      <th>OnlineSecurity</th>\n",
              "      <th>OnlineBackup</th>\n",
              "      <th>DeviceProtection</th>\n",
              "      <th>TechSupport</th>\n",
              "      <th>StreamingTV</th>\n",
              "      <th>StreamingMovies</th>\n",
              "      <th>Contract</th>\n",
              "      <th>PaperlessBilling</th>\n",
              "      <th>PaymentMethod</th>\n",
              "      <th>MonthlyCharges</th>\n",
              "      <th>TotalCharges</th>\n",
              "      <th>Churn</th>\n",
              "    </tr>\n",
              "  </thead>\n",
              "  <tbody>\n",
              "    <tr>\n",
              "      <th>488</th>\n",
              "      <td>Female</td>\n",
              "      <td>0</td>\n",
              "      <td>Yes</td>\n",
              "      <td>Yes</td>\n",
              "      <td>0</td>\n",
              "      <td>No</td>\n",
              "      <td>No phone service</td>\n",
              "      <td>DSL</td>\n",
              "      <td>Yes</td>\n",
              "      <td>No</td>\n",
              "      <td>Yes</td>\n",
              "      <td>Yes</td>\n",
              "      <td>Yes</td>\n",
              "      <td>No</td>\n",
              "      <td>Two year</td>\n",
              "      <td>Yes</td>\n",
              "      <td>Bank transfer (automatic)</td>\n",
              "      <td>52.55</td>\n",
              "      <td></td>\n",
              "      <td>No</td>\n",
              "    </tr>\n",
              "    <tr>\n",
              "      <th>753</th>\n",
              "      <td>Male</td>\n",
              "      <td>0</td>\n",
              "      <td>No</td>\n",
              "      <td>Yes</td>\n",
              "      <td>0</td>\n",
              "      <td>Yes</td>\n",
              "      <td>No</td>\n",
              "      <td>No</td>\n",
              "      <td>No internet service</td>\n",
              "      <td>No internet service</td>\n",
              "      <td>No internet service</td>\n",
              "      <td>No internet service</td>\n",
              "      <td>No internet service</td>\n",
              "      <td>No internet service</td>\n",
              "      <td>Two year</td>\n",
              "      <td>No</td>\n",
              "      <td>Mailed check</td>\n",
              "      <td>20.25</td>\n",
              "      <td></td>\n",
              "      <td>No</td>\n",
              "    </tr>\n",
              "    <tr>\n",
              "      <th>936</th>\n",
              "      <td>Female</td>\n",
              "      <td>0</td>\n",
              "      <td>Yes</td>\n",
              "      <td>Yes</td>\n",
              "      <td>0</td>\n",
              "      <td>Yes</td>\n",
              "      <td>No</td>\n",
              "      <td>DSL</td>\n",
              "      <td>Yes</td>\n",
              "      <td>Yes</td>\n",
              "      <td>Yes</td>\n",
              "      <td>No</td>\n",
              "      <td>Yes</td>\n",
              "      <td>Yes</td>\n",
              "      <td>Two year</td>\n",
              "      <td>No</td>\n",
              "      <td>Mailed check</td>\n",
              "      <td>80.85</td>\n",
              "      <td></td>\n",
              "      <td>No</td>\n",
              "    </tr>\n",
              "    <tr>\n",
              "      <th>1082</th>\n",
              "      <td>Male</td>\n",
              "      <td>0</td>\n",
              "      <td>Yes</td>\n",
              "      <td>Yes</td>\n",
              "      <td>0</td>\n",
              "      <td>Yes</td>\n",
              "      <td>Yes</td>\n",
              "      <td>No</td>\n",
              "      <td>No internet service</td>\n",
              "      <td>No internet service</td>\n",
              "      <td>No internet service</td>\n",
              "      <td>No internet service</td>\n",
              "      <td>No internet service</td>\n",
              "      <td>No internet service</td>\n",
              "      <td>Two year</td>\n",
              "      <td>No</td>\n",
              "      <td>Mailed check</td>\n",
              "      <td>25.75</td>\n",
              "      <td></td>\n",
              "      <td>No</td>\n",
              "    </tr>\n",
              "    <tr>\n",
              "      <th>1340</th>\n",
              "      <td>Female</td>\n",
              "      <td>0</td>\n",
              "      <td>Yes</td>\n",
              "      <td>Yes</td>\n",
              "      <td>0</td>\n",
              "      <td>No</td>\n",
              "      <td>No phone service</td>\n",
              "      <td>DSL</td>\n",
              "      <td>Yes</td>\n",
              "      <td>Yes</td>\n",
              "      <td>Yes</td>\n",
              "      <td>Yes</td>\n",
              "      <td>Yes</td>\n",
              "      <td>No</td>\n",
              "      <td>Two year</td>\n",
              "      <td>No</td>\n",
              "      <td>Credit card (automatic)</td>\n",
              "      <td>56.05</td>\n",
              "      <td></td>\n",
              "      <td>No</td>\n",
              "    </tr>\n",
              "    <tr>\n",
              "      <th>3331</th>\n",
              "      <td>Male</td>\n",
              "      <td>0</td>\n",
              "      <td>Yes</td>\n",
              "      <td>Yes</td>\n",
              "      <td>0</td>\n",
              "      <td>Yes</td>\n",
              "      <td>No</td>\n",
              "      <td>No</td>\n",
              "      <td>No internet service</td>\n",
              "      <td>No internet service</td>\n",
              "      <td>No internet service</td>\n",
              "      <td>No internet service</td>\n",
              "      <td>No internet service</td>\n",
              "      <td>No internet service</td>\n",
              "      <td>Two year</td>\n",
              "      <td>No</td>\n",
              "      <td>Mailed check</td>\n",
              "      <td>19.85</td>\n",
              "      <td></td>\n",
              "      <td>No</td>\n",
              "    </tr>\n",
              "    <tr>\n",
              "      <th>3826</th>\n",
              "      <td>Male</td>\n",
              "      <td>0</td>\n",
              "      <td>Yes</td>\n",
              "      <td>Yes</td>\n",
              "      <td>0</td>\n",
              "      <td>Yes</td>\n",
              "      <td>Yes</td>\n",
              "      <td>No</td>\n",
              "      <td>No internet service</td>\n",
              "      <td>No internet service</td>\n",
              "      <td>No internet service</td>\n",
              "      <td>No internet service</td>\n",
              "      <td>No internet service</td>\n",
              "      <td>No internet service</td>\n",
              "      <td>Two year</td>\n",
              "      <td>No</td>\n",
              "      <td>Mailed check</td>\n",
              "      <td>25.35</td>\n",
              "      <td></td>\n",
              "      <td>No</td>\n",
              "    </tr>\n",
              "    <tr>\n",
              "      <th>4380</th>\n",
              "      <td>Female</td>\n",
              "      <td>0</td>\n",
              "      <td>Yes</td>\n",
              "      <td>Yes</td>\n",
              "      <td>0</td>\n",
              "      <td>Yes</td>\n",
              "      <td>No</td>\n",
              "      <td>No</td>\n",
              "      <td>No internet service</td>\n",
              "      <td>No internet service</td>\n",
              "      <td>No internet service</td>\n",
              "      <td>No internet service</td>\n",
              "      <td>No internet service</td>\n",
              "      <td>No internet service</td>\n",
              "      <td>Two year</td>\n",
              "      <td>No</td>\n",
              "      <td>Mailed check</td>\n",
              "      <td>20.00</td>\n",
              "      <td></td>\n",
              "      <td>No</td>\n",
              "    </tr>\n",
              "    <tr>\n",
              "      <th>5218</th>\n",
              "      <td>Male</td>\n",
              "      <td>0</td>\n",
              "      <td>Yes</td>\n",
              "      <td>Yes</td>\n",
              "      <td>0</td>\n",
              "      <td>Yes</td>\n",
              "      <td>No</td>\n",
              "      <td>No</td>\n",
              "      <td>No internet service</td>\n",
              "      <td>No internet service</td>\n",
              "      <td>No internet service</td>\n",
              "      <td>No internet service</td>\n",
              "      <td>No internet service</td>\n",
              "      <td>No internet service</td>\n",
              "      <td>One year</td>\n",
              "      <td>Yes</td>\n",
              "      <td>Mailed check</td>\n",
              "      <td>19.70</td>\n",
              "      <td></td>\n",
              "      <td>No</td>\n",
              "    </tr>\n",
              "    <tr>\n",
              "      <th>6670</th>\n",
              "      <td>Female</td>\n",
              "      <td>0</td>\n",
              "      <td>Yes</td>\n",
              "      <td>Yes</td>\n",
              "      <td>0</td>\n",
              "      <td>Yes</td>\n",
              "      <td>Yes</td>\n",
              "      <td>DSL</td>\n",
              "      <td>No</td>\n",
              "      <td>Yes</td>\n",
              "      <td>Yes</td>\n",
              "      <td>Yes</td>\n",
              "      <td>Yes</td>\n",
              "      <td>No</td>\n",
              "      <td>Two year</td>\n",
              "      <td>No</td>\n",
              "      <td>Mailed check</td>\n",
              "      <td>73.35</td>\n",
              "      <td></td>\n",
              "      <td>No</td>\n",
              "    </tr>\n",
              "    <tr>\n",
              "      <th>6754</th>\n",
              "      <td>Male</td>\n",
              "      <td>0</td>\n",
              "      <td>No</td>\n",
              "      <td>Yes</td>\n",
              "      <td>0</td>\n",
              "      <td>Yes</td>\n",
              "      <td>Yes</td>\n",
              "      <td>DSL</td>\n",
              "      <td>Yes</td>\n",
              "      <td>Yes</td>\n",
              "      <td>No</td>\n",
              "      <td>Yes</td>\n",
              "      <td>No</td>\n",
              "      <td>No</td>\n",
              "      <td>Two year</td>\n",
              "      <td>Yes</td>\n",
              "      <td>Bank transfer (automatic)</td>\n",
              "      <td>61.90</td>\n",
              "      <td></td>\n",
              "      <td>No</td>\n",
              "    </tr>\n",
              "  </tbody>\n",
              "</table>\n",
              "</div>"
            ],
            "text/plain": [
              "      gender  SeniorCitizen Partner Dependents  tenure PhoneService  \\\n",
              "488   Female              0     Yes        Yes       0           No   \n",
              "753     Male              0      No        Yes       0          Yes   \n",
              "936   Female              0     Yes        Yes       0          Yes   \n",
              "1082    Male              0     Yes        Yes       0          Yes   \n",
              "1340  Female              0     Yes        Yes       0           No   \n",
              "3331    Male              0     Yes        Yes       0          Yes   \n",
              "3826    Male              0     Yes        Yes       0          Yes   \n",
              "4380  Female              0     Yes        Yes       0          Yes   \n",
              "5218    Male              0     Yes        Yes       0          Yes   \n",
              "6670  Female              0     Yes        Yes       0          Yes   \n",
              "6754    Male              0      No        Yes       0          Yes   \n",
              "\n",
              "         MultipleLines InternetService       OnlineSecurity  \\\n",
              "488   No phone service             DSL                  Yes   \n",
              "753                 No              No  No internet service   \n",
              "936                 No             DSL                  Yes   \n",
              "1082               Yes              No  No internet service   \n",
              "1340  No phone service             DSL                  Yes   \n",
              "3331                No              No  No internet service   \n",
              "3826               Yes              No  No internet service   \n",
              "4380                No              No  No internet service   \n",
              "5218                No              No  No internet service   \n",
              "6670               Yes             DSL                   No   \n",
              "6754               Yes             DSL                  Yes   \n",
              "\n",
              "             OnlineBackup     DeviceProtection          TechSupport  \\\n",
              "488                    No                  Yes                  Yes   \n",
              "753   No internet service  No internet service  No internet service   \n",
              "936                   Yes                  Yes                   No   \n",
              "1082  No internet service  No internet service  No internet service   \n",
              "1340                  Yes                  Yes                  Yes   \n",
              "3331  No internet service  No internet service  No internet service   \n",
              "3826  No internet service  No internet service  No internet service   \n",
              "4380  No internet service  No internet service  No internet service   \n",
              "5218  No internet service  No internet service  No internet service   \n",
              "6670                  Yes                  Yes                  Yes   \n",
              "6754                  Yes                   No                  Yes   \n",
              "\n",
              "              StreamingTV      StreamingMovies  Contract PaperlessBilling  \\\n",
              "488                   Yes                   No  Two year              Yes   \n",
              "753   No internet service  No internet service  Two year               No   \n",
              "936                   Yes                  Yes  Two year               No   \n",
              "1082  No internet service  No internet service  Two year               No   \n",
              "1340                  Yes                   No  Two year               No   \n",
              "3331  No internet service  No internet service  Two year               No   \n",
              "3826  No internet service  No internet service  Two year               No   \n",
              "4380  No internet service  No internet service  Two year               No   \n",
              "5218  No internet service  No internet service  One year              Yes   \n",
              "6670                  Yes                   No  Two year               No   \n",
              "6754                   No                   No  Two year              Yes   \n",
              "\n",
              "                  PaymentMethod  MonthlyCharges TotalCharges Churn  \n",
              "488   Bank transfer (automatic)           52.55                 No  \n",
              "753                Mailed check           20.25                 No  \n",
              "936                Mailed check           80.85                 No  \n",
              "1082               Mailed check           25.75                 No  \n",
              "1340    Credit card (automatic)           56.05                 No  \n",
              "3331               Mailed check           19.85                 No  \n",
              "3826               Mailed check           25.35                 No  \n",
              "4380               Mailed check           20.00                 No  \n",
              "5218               Mailed check           19.70                 No  \n",
              "6670               Mailed check           73.35                 No  \n",
              "6754  Bank transfer (automatic)           61.90                 No  "
            ]
          },
          "execution_count": 14,
          "metadata": {},
          "output_type": "execute_result"
        }
      ],
      "source": [
        "# Print rows with missing TotalCharges values\n",
        "df1[df1.TotalCharges == ' ']"
      ]
    },
    {
      "cell_type": "markdown",
      "metadata": {
        "papermill": {
          "duration": 0.055702,
          "end_time": "2020-10-22T12:12:30.858233",
          "exception": false,
          "start_time": "2020-10-22T12:12:30.802531",
          "status": "completed"
        },
        "tags": [],
        "id": "44GmPJAJdEaz"
      },
      "source": [
        "Note that for all above customers tenure is 0 months, that means they are new customers!! Total charges will be available for them after first month of service. Now instead of deleting these training examples we can add 0 as total charges!"
      ]
    },
    {
      "cell_type": "code",
      "execution_count": null,
      "metadata": {
        "execution": {
          "iopub.execute_input": "2020-10-22T12:12:30.979392Z",
          "iopub.status.busy": "2020-10-22T12:12:30.978565Z",
          "iopub.status.idle": "2020-10-22T12:12:31.033999Z",
          "shell.execute_reply": "2020-10-22T12:12:31.033209Z"
        },
        "papermill": {
          "duration": 0.120435,
          "end_time": "2020-10-22T12:12:31.034144",
          "exception": false,
          "start_time": "2020-10-22T12:12:30.913709",
          "status": "completed"
        },
        "tags": [],
        "id": "qsSa6ci_dEaz",
        "outputId": "a0ed3c3b-66fd-4852-8259-b4c5bd5a3798"
      },
      "outputs": [
        {
          "data": {
            "text/html": [
              "<div>\n",
              "<style scoped>\n",
              "    .dataframe tbody tr th:only-of-type {\n",
              "        vertical-align: middle;\n",
              "    }\n",
              "\n",
              "    .dataframe tbody tr th {\n",
              "        vertical-align: top;\n",
              "    }\n",
              "\n",
              "    .dataframe thead th {\n",
              "        text-align: right;\n",
              "    }\n",
              "</style>\n",
              "<table border=\"1\" class=\"dataframe\">\n",
              "  <thead>\n",
              "    <tr style=\"text-align: right;\">\n",
              "      <th></th>\n",
              "      <th>gender</th>\n",
              "      <th>SeniorCitizen</th>\n",
              "      <th>Partner</th>\n",
              "      <th>Dependents</th>\n",
              "      <th>tenure</th>\n",
              "      <th>PhoneService</th>\n",
              "      <th>MultipleLines</th>\n",
              "      <th>InternetService</th>\n",
              "      <th>OnlineSecurity</th>\n",
              "      <th>OnlineBackup</th>\n",
              "      <th>DeviceProtection</th>\n",
              "      <th>TechSupport</th>\n",
              "      <th>StreamingTV</th>\n",
              "      <th>StreamingMovies</th>\n",
              "      <th>Contract</th>\n",
              "      <th>PaperlessBilling</th>\n",
              "      <th>PaymentMethod</th>\n",
              "      <th>MonthlyCharges</th>\n",
              "      <th>TotalCharges</th>\n",
              "      <th>Churn</th>\n",
              "    </tr>\n",
              "  </thead>\n",
              "  <tbody>\n",
              "    <tr>\n",
              "      <th>488</th>\n",
              "      <td>Female</td>\n",
              "      <td>0</td>\n",
              "      <td>Yes</td>\n",
              "      <td>Yes</td>\n",
              "      <td>0</td>\n",
              "      <td>No</td>\n",
              "      <td>No phone service</td>\n",
              "      <td>DSL</td>\n",
              "      <td>Yes</td>\n",
              "      <td>No</td>\n",
              "      <td>Yes</td>\n",
              "      <td>Yes</td>\n",
              "      <td>Yes</td>\n",
              "      <td>No</td>\n",
              "      <td>Two year</td>\n",
              "      <td>Yes</td>\n",
              "      <td>Bank transfer (automatic)</td>\n",
              "      <td>52.55</td>\n",
              "      <td>0</td>\n",
              "      <td>No</td>\n",
              "    </tr>\n",
              "    <tr>\n",
              "      <th>753</th>\n",
              "      <td>Male</td>\n",
              "      <td>0</td>\n",
              "      <td>No</td>\n",
              "      <td>Yes</td>\n",
              "      <td>0</td>\n",
              "      <td>Yes</td>\n",
              "      <td>No</td>\n",
              "      <td>No</td>\n",
              "      <td>No internet service</td>\n",
              "      <td>No internet service</td>\n",
              "      <td>No internet service</td>\n",
              "      <td>No internet service</td>\n",
              "      <td>No internet service</td>\n",
              "      <td>No internet service</td>\n",
              "      <td>Two year</td>\n",
              "      <td>No</td>\n",
              "      <td>Mailed check</td>\n",
              "      <td>20.25</td>\n",
              "      <td>0</td>\n",
              "      <td>No</td>\n",
              "    </tr>\n",
              "    <tr>\n",
              "      <th>936</th>\n",
              "      <td>Female</td>\n",
              "      <td>0</td>\n",
              "      <td>Yes</td>\n",
              "      <td>Yes</td>\n",
              "      <td>0</td>\n",
              "      <td>Yes</td>\n",
              "      <td>No</td>\n",
              "      <td>DSL</td>\n",
              "      <td>Yes</td>\n",
              "      <td>Yes</td>\n",
              "      <td>Yes</td>\n",
              "      <td>No</td>\n",
              "      <td>Yes</td>\n",
              "      <td>Yes</td>\n",
              "      <td>Two year</td>\n",
              "      <td>No</td>\n",
              "      <td>Mailed check</td>\n",
              "      <td>80.85</td>\n",
              "      <td>0</td>\n",
              "      <td>No</td>\n",
              "    </tr>\n",
              "    <tr>\n",
              "      <th>1082</th>\n",
              "      <td>Male</td>\n",
              "      <td>0</td>\n",
              "      <td>Yes</td>\n",
              "      <td>Yes</td>\n",
              "      <td>0</td>\n",
              "      <td>Yes</td>\n",
              "      <td>Yes</td>\n",
              "      <td>No</td>\n",
              "      <td>No internet service</td>\n",
              "      <td>No internet service</td>\n",
              "      <td>No internet service</td>\n",
              "      <td>No internet service</td>\n",
              "      <td>No internet service</td>\n",
              "      <td>No internet service</td>\n",
              "      <td>Two year</td>\n",
              "      <td>No</td>\n",
              "      <td>Mailed check</td>\n",
              "      <td>25.75</td>\n",
              "      <td>0</td>\n",
              "      <td>No</td>\n",
              "    </tr>\n",
              "    <tr>\n",
              "      <th>1340</th>\n",
              "      <td>Female</td>\n",
              "      <td>0</td>\n",
              "      <td>Yes</td>\n",
              "      <td>Yes</td>\n",
              "      <td>0</td>\n",
              "      <td>No</td>\n",
              "      <td>No phone service</td>\n",
              "      <td>DSL</td>\n",
              "      <td>Yes</td>\n",
              "      <td>Yes</td>\n",
              "      <td>Yes</td>\n",
              "      <td>Yes</td>\n",
              "      <td>Yes</td>\n",
              "      <td>No</td>\n",
              "      <td>Two year</td>\n",
              "      <td>No</td>\n",
              "      <td>Credit card (automatic)</td>\n",
              "      <td>56.05</td>\n",
              "      <td>0</td>\n",
              "      <td>No</td>\n",
              "    </tr>\n",
              "    <tr>\n",
              "      <th>3331</th>\n",
              "      <td>Male</td>\n",
              "      <td>0</td>\n",
              "      <td>Yes</td>\n",
              "      <td>Yes</td>\n",
              "      <td>0</td>\n",
              "      <td>Yes</td>\n",
              "      <td>No</td>\n",
              "      <td>No</td>\n",
              "      <td>No internet service</td>\n",
              "      <td>No internet service</td>\n",
              "      <td>No internet service</td>\n",
              "      <td>No internet service</td>\n",
              "      <td>No internet service</td>\n",
              "      <td>No internet service</td>\n",
              "      <td>Two year</td>\n",
              "      <td>No</td>\n",
              "      <td>Mailed check</td>\n",
              "      <td>19.85</td>\n",
              "      <td>0</td>\n",
              "      <td>No</td>\n",
              "    </tr>\n",
              "    <tr>\n",
              "      <th>3826</th>\n",
              "      <td>Male</td>\n",
              "      <td>0</td>\n",
              "      <td>Yes</td>\n",
              "      <td>Yes</td>\n",
              "      <td>0</td>\n",
              "      <td>Yes</td>\n",
              "      <td>Yes</td>\n",
              "      <td>No</td>\n",
              "      <td>No internet service</td>\n",
              "      <td>No internet service</td>\n",
              "      <td>No internet service</td>\n",
              "      <td>No internet service</td>\n",
              "      <td>No internet service</td>\n",
              "      <td>No internet service</td>\n",
              "      <td>Two year</td>\n",
              "      <td>No</td>\n",
              "      <td>Mailed check</td>\n",
              "      <td>25.35</td>\n",
              "      <td>0</td>\n",
              "      <td>No</td>\n",
              "    </tr>\n",
              "    <tr>\n",
              "      <th>4380</th>\n",
              "      <td>Female</td>\n",
              "      <td>0</td>\n",
              "      <td>Yes</td>\n",
              "      <td>Yes</td>\n",
              "      <td>0</td>\n",
              "      <td>Yes</td>\n",
              "      <td>No</td>\n",
              "      <td>No</td>\n",
              "      <td>No internet service</td>\n",
              "      <td>No internet service</td>\n",
              "      <td>No internet service</td>\n",
              "      <td>No internet service</td>\n",
              "      <td>No internet service</td>\n",
              "      <td>No internet service</td>\n",
              "      <td>Two year</td>\n",
              "      <td>No</td>\n",
              "      <td>Mailed check</td>\n",
              "      <td>20.00</td>\n",
              "      <td>0</td>\n",
              "      <td>No</td>\n",
              "    </tr>\n",
              "    <tr>\n",
              "      <th>5218</th>\n",
              "      <td>Male</td>\n",
              "      <td>0</td>\n",
              "      <td>Yes</td>\n",
              "      <td>Yes</td>\n",
              "      <td>0</td>\n",
              "      <td>Yes</td>\n",
              "      <td>No</td>\n",
              "      <td>No</td>\n",
              "      <td>No internet service</td>\n",
              "      <td>No internet service</td>\n",
              "      <td>No internet service</td>\n",
              "      <td>No internet service</td>\n",
              "      <td>No internet service</td>\n",
              "      <td>No internet service</td>\n",
              "      <td>One year</td>\n",
              "      <td>Yes</td>\n",
              "      <td>Mailed check</td>\n",
              "      <td>19.70</td>\n",
              "      <td>0</td>\n",
              "      <td>No</td>\n",
              "    </tr>\n",
              "    <tr>\n",
              "      <th>6670</th>\n",
              "      <td>Female</td>\n",
              "      <td>0</td>\n",
              "      <td>Yes</td>\n",
              "      <td>Yes</td>\n",
              "      <td>0</td>\n",
              "      <td>Yes</td>\n",
              "      <td>Yes</td>\n",
              "      <td>DSL</td>\n",
              "      <td>No</td>\n",
              "      <td>Yes</td>\n",
              "      <td>Yes</td>\n",
              "      <td>Yes</td>\n",
              "      <td>Yes</td>\n",
              "      <td>No</td>\n",
              "      <td>Two year</td>\n",
              "      <td>No</td>\n",
              "      <td>Mailed check</td>\n",
              "      <td>73.35</td>\n",
              "      <td>0</td>\n",
              "      <td>No</td>\n",
              "    </tr>\n",
              "    <tr>\n",
              "      <th>6754</th>\n",
              "      <td>Male</td>\n",
              "      <td>0</td>\n",
              "      <td>No</td>\n",
              "      <td>Yes</td>\n",
              "      <td>0</td>\n",
              "      <td>Yes</td>\n",
              "      <td>Yes</td>\n",
              "      <td>DSL</td>\n",
              "      <td>Yes</td>\n",
              "      <td>Yes</td>\n",
              "      <td>No</td>\n",
              "      <td>Yes</td>\n",
              "      <td>No</td>\n",
              "      <td>No</td>\n",
              "      <td>Two year</td>\n",
              "      <td>Yes</td>\n",
              "      <td>Bank transfer (automatic)</td>\n",
              "      <td>61.90</td>\n",
              "      <td>0</td>\n",
              "      <td>No</td>\n",
              "    </tr>\n",
              "  </tbody>\n",
              "</table>\n",
              "</div>"
            ],
            "text/plain": [
              "      gender  SeniorCitizen Partner Dependents  tenure PhoneService  \\\n",
              "488   Female              0     Yes        Yes       0           No   \n",
              "753     Male              0      No        Yes       0          Yes   \n",
              "936   Female              0     Yes        Yes       0          Yes   \n",
              "1082    Male              0     Yes        Yes       0          Yes   \n",
              "1340  Female              0     Yes        Yes       0           No   \n",
              "3331    Male              0     Yes        Yes       0          Yes   \n",
              "3826    Male              0     Yes        Yes       0          Yes   \n",
              "4380  Female              0     Yes        Yes       0          Yes   \n",
              "5218    Male              0     Yes        Yes       0          Yes   \n",
              "6670  Female              0     Yes        Yes       0          Yes   \n",
              "6754    Male              0      No        Yes       0          Yes   \n",
              "\n",
              "         MultipleLines InternetService       OnlineSecurity  \\\n",
              "488   No phone service             DSL                  Yes   \n",
              "753                 No              No  No internet service   \n",
              "936                 No             DSL                  Yes   \n",
              "1082               Yes              No  No internet service   \n",
              "1340  No phone service             DSL                  Yes   \n",
              "3331                No              No  No internet service   \n",
              "3826               Yes              No  No internet service   \n",
              "4380                No              No  No internet service   \n",
              "5218                No              No  No internet service   \n",
              "6670               Yes             DSL                   No   \n",
              "6754               Yes             DSL                  Yes   \n",
              "\n",
              "             OnlineBackup     DeviceProtection          TechSupport  \\\n",
              "488                    No                  Yes                  Yes   \n",
              "753   No internet service  No internet service  No internet service   \n",
              "936                   Yes                  Yes                   No   \n",
              "1082  No internet service  No internet service  No internet service   \n",
              "1340                  Yes                  Yes                  Yes   \n",
              "3331  No internet service  No internet service  No internet service   \n",
              "3826  No internet service  No internet service  No internet service   \n",
              "4380  No internet service  No internet service  No internet service   \n",
              "5218  No internet service  No internet service  No internet service   \n",
              "6670                  Yes                  Yes                  Yes   \n",
              "6754                  Yes                   No                  Yes   \n",
              "\n",
              "              StreamingTV      StreamingMovies  Contract PaperlessBilling  \\\n",
              "488                   Yes                   No  Two year              Yes   \n",
              "753   No internet service  No internet service  Two year               No   \n",
              "936                   Yes                  Yes  Two year               No   \n",
              "1082  No internet service  No internet service  Two year               No   \n",
              "1340                  Yes                   No  Two year               No   \n",
              "3331  No internet service  No internet service  Two year               No   \n",
              "3826  No internet service  No internet service  Two year               No   \n",
              "4380  No internet service  No internet service  Two year               No   \n",
              "5218  No internet service  No internet service  One year              Yes   \n",
              "6670                  Yes                   No  Two year               No   \n",
              "6754                   No                   No  Two year              Yes   \n",
              "\n",
              "                  PaymentMethod  MonthlyCharges TotalCharges Churn  \n",
              "488   Bank transfer (automatic)           52.55            0    No  \n",
              "753                Mailed check           20.25            0    No  \n",
              "936                Mailed check           80.85            0    No  \n",
              "1082               Mailed check           25.75            0    No  \n",
              "1340    Credit card (automatic)           56.05            0    No  \n",
              "3331               Mailed check           19.85            0    No  \n",
              "3826               Mailed check           25.35            0    No  \n",
              "4380               Mailed check           20.00            0    No  \n",
              "5218               Mailed check           19.70            0    No  \n",
              "6670               Mailed check           73.35            0    No  \n",
              "6754  Bank transfer (automatic)           61.90            0    No  "
            ]
          },
          "execution_count": 15,
          "metadata": {},
          "output_type": "execute_result"
        }
      ],
      "source": [
        "df1.TotalCharges =  df1.TotalCharges.replace(r' ', '0')\n",
        "df1[df1.tenure == 0]"
      ]
    },
    {
      "cell_type": "markdown",
      "metadata": {
        "papermill": {
          "duration": 0.0578,
          "end_time": "2020-10-22T12:12:31.151003",
          "exception": false,
          "start_time": "2020-10-22T12:12:31.093203",
          "status": "completed"
        },
        "tags": [],
        "id": "9EoebuFedEa0"
      },
      "source": [
        "Now we have updated the missing value lets change the datatype of the total charges column to numeric."
      ]
    },
    {
      "cell_type": "code",
      "execution_count": null,
      "metadata": {
        "execution": {
          "iopub.execute_input": "2020-10-22T12:12:31.279082Z",
          "iopub.status.busy": "2020-10-22T12:12:31.278227Z",
          "iopub.status.idle": "2020-10-22T12:12:31.289916Z",
          "shell.execute_reply": "2020-10-22T12:12:31.289226Z"
        },
        "papermill": {
          "duration": 0.081888,
          "end_time": "2020-10-22T12:12:31.290078",
          "exception": false,
          "start_time": "2020-10-22T12:12:31.208190",
          "status": "completed"
        },
        "tags": [],
        "id": "ImFVbyHNdEa0",
        "outputId": "b11b6786-7f2a-43a3-da4c-5efa1596210f"
      },
      "outputs": [
        {
          "name": "stdout",
          "output_type": "stream",
          "text": [
            "New datatype of TotalCharges : float64\n"
          ]
        }
      ],
      "source": [
        "df1.TotalCharges = pd.to_numeric(df1.TotalCharges)\n",
        "print(f'New datatype of TotalCharges : { df1.TotalCharges.dtype}')    "
      ]
    },
    {
      "cell_type": "markdown",
      "metadata": {
        "papermill": {
          "duration": 0.057117,
          "end_time": "2020-10-22T12:12:31.405627",
          "exception": false,
          "start_time": "2020-10-22T12:12:31.348510",
          "status": "completed"
        },
        "tags": [],
        "id": "3gRK6wUZdEa1"
      },
      "source": [
        "### Transform Categorical Values <a id =\"12\"></a>\n",
        "* As you must have notice most of the columns have values 'Yes', 'No' , 'No phone service, 'No internet service' etc\n",
        "* We will print all the unique values for categorical columns and then replace the duplicate categories like 'No phone service' and 'No internet service' with simple 'No' category.\n",
        "* Once we get yes and no categories then, we will convert them  into numeric format (Yes: 1, No: 0)\n",
        "* This is called as Hot Encoding. For more details about it please refer [One Hot Encoding](https://satishgunjal.com/one_hot_encoding/)"
      ]
    },
    {
      "cell_type": "code",
      "execution_count": null,
      "metadata": {
        "execution": {
          "iopub.execute_input": "2020-10-22T12:12:31.530659Z",
          "iopub.status.busy": "2020-10-22T12:12:31.529886Z",
          "iopub.status.idle": "2020-10-22T12:12:31.550563Z",
          "shell.execute_reply": "2020-10-22T12:12:31.551456Z"
        },
        "papermill": {
          "duration": 0.088638,
          "end_time": "2020-10-22T12:12:31.551697",
          "exception": false,
          "start_time": "2020-10-22T12:12:31.463059",
          "status": "completed"
        },
        "tags": [],
        "id": "bMAxEMJudEa1",
        "outputId": "6ebac0db-8acb-466a-a6dd-f81f6afb885b"
      },
      "outputs": [
        {
          "name": "stdout",
          "output_type": "stream",
          "text": [
            "Unique values from categorical columns,\n",
            "\n",
            "column: gender, Unique vlaues: ['Female' 'Male']\n",
            "column: Partner, Unique vlaues: ['Yes' 'No']\n",
            "column: Dependents, Unique vlaues: ['No' 'Yes']\n",
            "column: PhoneService, Unique vlaues: ['No' 'Yes']\n",
            "column: MultipleLines, Unique vlaues: ['No phone service' 'No' 'Yes']\n",
            "column: InternetService, Unique vlaues: ['DSL' 'Fiber optic' 'No']\n",
            "column: OnlineSecurity, Unique vlaues: ['No' 'Yes' 'No internet service']\n",
            "column: OnlineBackup, Unique vlaues: ['Yes' 'No' 'No internet service']\n",
            "column: DeviceProtection, Unique vlaues: ['No' 'Yes' 'No internet service']\n",
            "column: TechSupport, Unique vlaues: ['No' 'Yes' 'No internet service']\n",
            "column: StreamingTV, Unique vlaues: ['No' 'Yes' 'No internet service']\n",
            "column: StreamingMovies, Unique vlaues: ['No' 'Yes' 'No internet service']\n",
            "column: Contract, Unique vlaues: ['Month-to-month' 'One year' 'Two year']\n",
            "column: PaperlessBilling, Unique vlaues: ['Yes' 'No']\n",
            "column: PaymentMethod, Unique vlaues: ['Electronic check' 'Mailed check' 'Bank transfer (automatic)'\n",
            " 'Credit card (automatic)']\n",
            "column: Churn, Unique vlaues: ['No' 'Yes']\n"
          ]
        }
      ],
      "source": [
        "def print_unique_col_values(df):\n",
        "    \"\"\"Print unique values from categorical columns of the given dataframe\"\"\"\n",
        "    print('Unique values from categorical columns,\\n')\n",
        "    for column in df.columns:\n",
        "        if(df[column].dtypes == 'object'): \n",
        "            print(f'column: {column}, Unique vlaues: {df[column].unique()}')\n",
        "        \n",
        "print_unique_col_values(df1)"
      ]
    },
    {
      "cell_type": "markdown",
      "metadata": {
        "papermill": {
          "duration": 0.060897,
          "end_time": "2020-10-22T12:12:31.671372",
          "exception": false,
          "start_time": "2020-10-22T12:12:31.610475",
          "status": "completed"
        },
        "tags": [],
        "id": "g5Jdl1VldEa2"
      },
      "source": [
        "Now lets replace 'No phone service' with 'No' in column MultipleLines and  ''No internet service' with 'no' in columns OnlineSecurity, DeviceProtection, TechSupport, StreamingTV, StreamingMovies. We can run this replaces, directly on the dataframe."
      ]
    },
    {
      "cell_type": "code",
      "execution_count": null,
      "metadata": {
        "execution": {
          "iopub.execute_input": "2020-10-22T12:12:31.816224Z",
          "iopub.status.busy": "2020-10-22T12:12:31.799272Z",
          "iopub.status.idle": "2020-10-22T12:12:31.838470Z",
          "shell.execute_reply": "2020-10-22T12:12:31.839481Z"
        },
        "papermill": {
          "duration": 0.109933,
          "end_time": "2020-10-22T12:12:31.839710",
          "exception": false,
          "start_time": "2020-10-22T12:12:31.729777",
          "status": "completed"
        },
        "tags": [],
        "id": "4MguoesWdEa2",
        "outputId": "23ee1bf4-f56e-403e-d704-156748a959fc"
      },
      "outputs": [
        {
          "name": "stdout",
          "output_type": "stream",
          "text": [
            "Unique values from categorical columns,\n",
            "\n",
            "column: gender, Unique vlaues: ['Female' 'Male']\n",
            "column: Partner, Unique vlaues: ['Yes' 'No']\n",
            "column: Dependents, Unique vlaues: ['No' 'Yes']\n",
            "column: PhoneService, Unique vlaues: ['No' 'Yes']\n",
            "column: MultipleLines, Unique vlaues: ['No' 'Yes']\n",
            "column: InternetService, Unique vlaues: ['DSL' 'Fiber optic' 'No']\n",
            "column: OnlineSecurity, Unique vlaues: ['No' 'Yes']\n",
            "column: OnlineBackup, Unique vlaues: ['Yes' 'No']\n",
            "column: DeviceProtection, Unique vlaues: ['No' 'Yes']\n",
            "column: TechSupport, Unique vlaues: ['No' 'Yes']\n",
            "column: StreamingTV, Unique vlaues: ['No' 'Yes']\n",
            "column: StreamingMovies, Unique vlaues: ['No' 'Yes']\n",
            "column: Contract, Unique vlaues: ['Month-to-month' 'One year' 'Two year']\n",
            "column: PaperlessBilling, Unique vlaues: ['Yes' 'No']\n",
            "column: PaymentMethod, Unique vlaues: ['Electronic check' 'Mailed check' 'Bank transfer (automatic)'\n",
            " 'Credit card (automatic)']\n",
            "column: Churn, Unique vlaues: ['No' 'Yes']\n"
          ]
        }
      ],
      "source": [
        "df1.replace('No internet service', 'No', inplace = True)\n",
        "df1.replace('No phone service', 'No', inplace = True)\n",
        "# Lets print unique values again\n",
        "print_unique_col_values(df1)"
      ]
    },
    {
      "cell_type": "markdown",
      "metadata": {
        "papermill": {
          "duration": 0.058761,
          "end_time": "2020-10-22T12:12:31.958618",
          "exception": false,
          "start_time": "2020-10-22T12:12:31.899857",
          "status": "completed"
        },
        "tags": [],
        "id": "jzxwUWvzdEa3"
      },
      "source": [
        "All our categorical values don't have any numeric order or relationship between them, means these 'Nominal  Categorical Values'. We should use One Hot Encoding instead of label encoding to convert them into numeric format. Since Churn contains our class labels we can manually assign numeric values to it."
      ]
    },
    {
      "cell_type": "code",
      "execution_count": null,
      "metadata": {
        "execution": {
          "iopub.execute_input": "2020-10-22T12:12:32.090145Z",
          "iopub.status.busy": "2020-10-22T12:12:32.089094Z",
          "iopub.status.idle": "2020-10-22T12:12:32.091926Z",
          "shell.execute_reply": "2020-10-22T12:12:32.091272Z"
        },
        "papermill": {
          "duration": 0.074228,
          "end_time": "2020-10-22T12:12:32.092073",
          "exception": false,
          "start_time": "2020-10-22T12:12:32.017845",
          "status": "completed"
        },
        "tags": [],
        "id": "BLj2RobtdEa3"
      },
      "outputs": [],
      "source": [
        "# Converting churn to numeric\n",
        "df1['Churn'].replace({'Yes': 1,'No': 0},inplace=True)"
      ]
    },
    {
      "cell_type": "code",
      "execution_count": null,
      "metadata": {
        "execution": {
          "iopub.execute_input": "2020-10-22T12:12:32.219393Z",
          "iopub.status.busy": "2020-10-22T12:12:32.218236Z",
          "iopub.status.idle": "2020-10-22T12:12:32.280003Z",
          "shell.execute_reply": "2020-10-22T12:12:32.279247Z"
        },
        "papermill": {
          "duration": 0.12892,
          "end_time": "2020-10-22T12:12:32.280129",
          "exception": false,
          "start_time": "2020-10-22T12:12:32.151209",
          "status": "completed"
        },
        "tags": [],
        "id": "Duyjv82qdEa3",
        "outputId": "0989fcc4-76e0-4a03-a574-8f23726991bf"
      },
      "outputs": [
        {
          "name": "stdout",
          "output_type": "stream",
          "text": [
            "So we have added 19 more columns to our list. New shape : (7043, 39)\n"
          ]
        },
        {
          "data": {
            "text/html": [
              "<div>\n",
              "<style scoped>\n",
              "    .dataframe tbody tr th:only-of-type {\n",
              "        vertical-align: middle;\n",
              "    }\n",
              "\n",
              "    .dataframe tbody tr th {\n",
              "        vertical-align: top;\n",
              "    }\n",
              "\n",
              "    .dataframe thead th {\n",
              "        text-align: right;\n",
              "    }\n",
              "</style>\n",
              "<table border=\"1\" class=\"dataframe\">\n",
              "  <thead>\n",
              "    <tr style=\"text-align: right;\">\n",
              "      <th></th>\n",
              "      <th>SeniorCitizen</th>\n",
              "      <th>tenure</th>\n",
              "      <th>MonthlyCharges</th>\n",
              "      <th>TotalCharges</th>\n",
              "      <th>Churn</th>\n",
              "      <th>gender_Female</th>\n",
              "      <th>gender_Male</th>\n",
              "      <th>Partner_No</th>\n",
              "      <th>Partner_Yes</th>\n",
              "      <th>Dependents_No</th>\n",
              "      <th>...</th>\n",
              "      <th>StreamingMovies_Yes</th>\n",
              "      <th>Contract_Month-to-month</th>\n",
              "      <th>Contract_One year</th>\n",
              "      <th>Contract_Two year</th>\n",
              "      <th>PaperlessBilling_No</th>\n",
              "      <th>PaperlessBilling_Yes</th>\n",
              "      <th>PaymentMethod_Bank transfer (automatic)</th>\n",
              "      <th>PaymentMethod_Credit card (automatic)</th>\n",
              "      <th>PaymentMethod_Electronic check</th>\n",
              "      <th>PaymentMethod_Mailed check</th>\n",
              "    </tr>\n",
              "  </thead>\n",
              "  <tbody>\n",
              "    <tr>\n",
              "      <th>121</th>\n",
              "      <td>0</td>\n",
              "      <td>6</td>\n",
              "      <td>20.70</td>\n",
              "      <td>112.75</td>\n",
              "      <td>0</td>\n",
              "      <td>1</td>\n",
              "      <td>0</td>\n",
              "      <td>1</td>\n",
              "      <td>0</td>\n",
              "      <td>1</td>\n",
              "      <td>...</td>\n",
              "      <td>0</td>\n",
              "      <td>1</td>\n",
              "      <td>0</td>\n",
              "      <td>0</td>\n",
              "      <td>1</td>\n",
              "      <td>0</td>\n",
              "      <td>0</td>\n",
              "      <td>0</td>\n",
              "      <td>0</td>\n",
              "      <td>1</td>\n",
              "    </tr>\n",
              "    <tr>\n",
              "      <th>5849</th>\n",
              "      <td>0</td>\n",
              "      <td>63</td>\n",
              "      <td>19.95</td>\n",
              "      <td>1234.80</td>\n",
              "      <td>0</td>\n",
              "      <td>0</td>\n",
              "      <td>1</td>\n",
              "      <td>0</td>\n",
              "      <td>1</td>\n",
              "      <td>1</td>\n",
              "      <td>...</td>\n",
              "      <td>0</td>\n",
              "      <td>0</td>\n",
              "      <td>0</td>\n",
              "      <td>1</td>\n",
              "      <td>0</td>\n",
              "      <td>1</td>\n",
              "      <td>1</td>\n",
              "      <td>0</td>\n",
              "      <td>0</td>\n",
              "      <td>0</td>\n",
              "    </tr>\n",
              "    <tr>\n",
              "      <th>1924</th>\n",
              "      <td>1</td>\n",
              "      <td>22</td>\n",
              "      <td>85.35</td>\n",
              "      <td>1961.60</td>\n",
              "      <td>0</td>\n",
              "      <td>1</td>\n",
              "      <td>0</td>\n",
              "      <td>0</td>\n",
              "      <td>1</td>\n",
              "      <td>0</td>\n",
              "      <td>...</td>\n",
              "      <td>0</td>\n",
              "      <td>1</td>\n",
              "      <td>0</td>\n",
              "      <td>0</td>\n",
              "      <td>1</td>\n",
              "      <td>0</td>\n",
              "      <td>1</td>\n",
              "      <td>0</td>\n",
              "      <td>0</td>\n",
              "      <td>0</td>\n",
              "    </tr>\n",
              "    <tr>\n",
              "      <th>2393</th>\n",
              "      <td>0</td>\n",
              "      <td>33</td>\n",
              "      <td>103.70</td>\n",
              "      <td>3467.00</td>\n",
              "      <td>1</td>\n",
              "      <td>1</td>\n",
              "      <td>0</td>\n",
              "      <td>0</td>\n",
              "      <td>1</td>\n",
              "      <td>0</td>\n",
              "      <td>...</td>\n",
              "      <td>1</td>\n",
              "      <td>0</td>\n",
              "      <td>1</td>\n",
              "      <td>0</td>\n",
              "      <td>0</td>\n",
              "      <td>1</td>\n",
              "      <td>0</td>\n",
              "      <td>0</td>\n",
              "      <td>0</td>\n",
              "      <td>1</td>\n",
              "    </tr>\n",
              "    <tr>\n",
              "      <th>2157</th>\n",
              "      <td>0</td>\n",
              "      <td>51</td>\n",
              "      <td>106.80</td>\n",
              "      <td>5498.80</td>\n",
              "      <td>0</td>\n",
              "      <td>0</td>\n",
              "      <td>1</td>\n",
              "      <td>0</td>\n",
              "      <td>1</td>\n",
              "      <td>1</td>\n",
              "      <td>...</td>\n",
              "      <td>1</td>\n",
              "      <td>0</td>\n",
              "      <td>1</td>\n",
              "      <td>0</td>\n",
              "      <td>0</td>\n",
              "      <td>1</td>\n",
              "      <td>1</td>\n",
              "      <td>0</td>\n",
              "      <td>0</td>\n",
              "      <td>0</td>\n",
              "    </tr>\n",
              "  </tbody>\n",
              "</table>\n",
              "<p>5 rows × 39 columns</p>\n",
              "</div>"
            ],
            "text/plain": [
              "      SeniorCitizen  tenure  MonthlyCharges  TotalCharges  Churn  \\\n",
              "121               0       6           20.70        112.75      0   \n",
              "5849              0      63           19.95       1234.80      0   \n",
              "1924              1      22           85.35       1961.60      0   \n",
              "2393              0      33          103.70       3467.00      1   \n",
              "2157              0      51          106.80       5498.80      0   \n",
              "\n",
              "      gender_Female  gender_Male  Partner_No  Partner_Yes  Dependents_No  ...  \\\n",
              "121               1            0           1            0              1  ...   \n",
              "5849              0            1           0            1              1  ...   \n",
              "1924              1            0           0            1              0  ...   \n",
              "2393              1            0           0            1              0  ...   \n",
              "2157              0            1           0            1              1  ...   \n",
              "\n",
              "      StreamingMovies_Yes  Contract_Month-to-month  Contract_One year  \\\n",
              "121                     0                        1                  0   \n",
              "5849                    0                        0                  0   \n",
              "1924                    0                        1                  0   \n",
              "2393                    1                        0                  1   \n",
              "2157                    1                        0                  1   \n",
              "\n",
              "      Contract_Two year  PaperlessBilling_No  PaperlessBilling_Yes  \\\n",
              "121                   0                    1                     0   \n",
              "5849                  1                    0                     1   \n",
              "1924                  0                    1                     0   \n",
              "2393                  0                    0                     1   \n",
              "2157                  0                    0                     1   \n",
              "\n",
              "      PaymentMethod_Bank transfer (automatic)  \\\n",
              "121                                         0   \n",
              "5849                                        1   \n",
              "1924                                        1   \n",
              "2393                                        0   \n",
              "2157                                        1   \n",
              "\n",
              "      PaymentMethod_Credit card (automatic)  PaymentMethod_Electronic check  \\\n",
              "121                                       0                               0   \n",
              "5849                                      0                               0   \n",
              "1924                                      0                               0   \n",
              "2393                                      0                               0   \n",
              "2157                                      0                               0   \n",
              "\n",
              "      PaymentMethod_Mailed check  \n",
              "121                            1  \n",
              "5849                           0  \n",
              "1924                           0  \n",
              "2393                           1  \n",
              "2157                           0  \n",
              "\n",
              "[5 rows x 39 columns]"
            ]
          },
          "execution_count": 20,
          "metadata": {},
          "output_type": "execute_result"
        }
      ],
      "source": [
        "# Create df2 for cleaned dataset\n",
        "df2 = pd.get_dummies(data = df1)\n",
        "\n",
        "print(f'So we have added {df2.shape[1]- df1.shape[1]} more columns to our list. New shape : {df2.shape}')\n",
        "df2.sample(5)"
      ]
    },
    {
      "cell_type": "markdown",
      "metadata": {
        "papermill": {
          "duration": 0.05986,
          "end_time": "2020-10-22T12:12:32.400735",
          "exception": false,
          "start_time": "2020-10-22T12:12:32.340875",
          "status": "completed"
        },
        "tags": [],
        "id": "52F3xHpRdEa4"
      },
      "source": [
        "### Scaling & Normalization <a id =\"13\"></a>\n",
        "In this step we are going identify the features who need to be scaled and scale them using sklearn's MinMaxScaler. Scaling is used to standardize the range of input features so that our machine learning model can quickly learn from the data.\n",
        "In our case features tenure, MonthlyCharges and TotalCharges need to be scaled."
      ]
    },
    {
      "cell_type": "code",
      "execution_count": null,
      "metadata": {
        "execution": {
          "iopub.execute_input": "2020-10-22T12:12:32.534395Z",
          "iopub.status.busy": "2020-10-22T12:12:32.531912Z",
          "iopub.status.idle": "2020-10-22T12:12:32.565327Z",
          "shell.execute_reply": "2020-10-22T12:12:32.564529Z"
        },
        "papermill": {
          "duration": 0.104453,
          "end_time": "2020-10-22T12:12:32.565483",
          "exception": false,
          "start_time": "2020-10-22T12:12:32.461030",
          "status": "completed"
        },
        "tags": [],
        "id": "wRUTWUktdEa4",
        "outputId": "8b8f1291-3f3f-4cb0-9620-8de013dfc655"
      },
      "outputs": [
        {
          "data": {
            "text/html": [
              "<div>\n",
              "<style scoped>\n",
              "    .dataframe tbody tr th:only-of-type {\n",
              "        vertical-align: middle;\n",
              "    }\n",
              "\n",
              "    .dataframe tbody tr th {\n",
              "        vertical-align: top;\n",
              "    }\n",
              "\n",
              "    .dataframe thead th {\n",
              "        text-align: right;\n",
              "    }\n",
              "</style>\n",
              "<table border=\"1\" class=\"dataframe\">\n",
              "  <thead>\n",
              "    <tr style=\"text-align: right;\">\n",
              "      <th></th>\n",
              "      <th>tenure</th>\n",
              "      <th>MonthlyCharges</th>\n",
              "      <th>TotalCharges</th>\n",
              "    </tr>\n",
              "  </thead>\n",
              "  <tbody>\n",
              "    <tr>\n",
              "      <th>count</th>\n",
              "      <td>7043.000000</td>\n",
              "      <td>7043.000000</td>\n",
              "      <td>7043.000000</td>\n",
              "    </tr>\n",
              "    <tr>\n",
              "      <th>mean</th>\n",
              "      <td>0.449599</td>\n",
              "      <td>0.462803</td>\n",
              "      <td>0.262497</td>\n",
              "    </tr>\n",
              "    <tr>\n",
              "      <th>std</th>\n",
              "      <td>0.341104</td>\n",
              "      <td>0.299403</td>\n",
              "      <td>0.261007</td>\n",
              "    </tr>\n",
              "    <tr>\n",
              "      <th>min</th>\n",
              "      <td>0.000000</td>\n",
              "      <td>0.000000</td>\n",
              "      <td>0.000000</td>\n",
              "    </tr>\n",
              "    <tr>\n",
              "      <th>25%</th>\n",
              "      <td>0.125000</td>\n",
              "      <td>0.171642</td>\n",
              "      <td>0.045891</td>\n",
              "    </tr>\n",
              "    <tr>\n",
              "      <th>50%</th>\n",
              "      <td>0.402778</td>\n",
              "      <td>0.518408</td>\n",
              "      <td>0.160574</td>\n",
              "    </tr>\n",
              "    <tr>\n",
              "      <th>75%</th>\n",
              "      <td>0.763889</td>\n",
              "      <td>0.712438</td>\n",
              "      <td>0.436003</td>\n",
              "    </tr>\n",
              "    <tr>\n",
              "      <th>max</th>\n",
              "      <td>1.000000</td>\n",
              "      <td>1.000000</td>\n",
              "      <td>1.000000</td>\n",
              "    </tr>\n",
              "  </tbody>\n",
              "</table>\n",
              "</div>"
            ],
            "text/plain": [
              "            tenure  MonthlyCharges  TotalCharges\n",
              "count  7043.000000     7043.000000   7043.000000\n",
              "mean      0.449599        0.462803      0.262497\n",
              "std       0.341104        0.299403      0.261007\n",
              "min       0.000000        0.000000      0.000000\n",
              "25%       0.125000        0.171642      0.045891\n",
              "50%       0.402778        0.518408      0.160574\n",
              "75%       0.763889        0.712438      0.436003\n",
              "max       1.000000        1.000000      1.000000"
            ]
          },
          "execution_count": 21,
          "metadata": {},
          "output_type": "execute_result"
        }
      ],
      "source": [
        "cols_to_scale = ['tenure','MonthlyCharges','TotalCharges']\n",
        "\n",
        "scaler = MinMaxScaler()\n",
        "df2[cols_to_scale] = scaler.fit_transform(df2[cols_to_scale]) # Fit to data, then transform it\n",
        "df2[cols_to_scale].describe()"
      ]
    },
    {
      "cell_type": "markdown",
      "metadata": {
        "papermill": {
          "duration": 0.07009,
          "end_time": "2020-10-22T12:12:32.697194",
          "exception": false,
          "start_time": "2020-10-22T12:12:32.627104",
          "status": "completed"
        },
        "tags": [],
        "id": "XEPwP-pLdEa4"
      },
      "source": [
        "As you can see now all our feature values are in the range of 0 to 1. Now let's prepare the training and testing data set for modeling.\n",
        "\n",
        "# Train Test Split <a id =\"14\"></a>\n",
        "We are going to create train and test datasets for training and testing respectively. Training dataset will have 80% of the data and test set will have 20% of the data. For more details please refer [link](https://satishgunjal.com/train_test_split/)"
      ]
    },
    {
      "cell_type": "code",
      "execution_count": null,
      "metadata": {
        "execution": {
          "iopub.execute_input": "2020-10-22T12:12:32.852294Z",
          "iopub.status.busy": "2020-10-22T12:12:32.851315Z",
          "iopub.status.idle": "2020-10-22T12:12:32.882902Z",
          "shell.execute_reply": "2020-10-22T12:12:32.882133Z"
        },
        "papermill": {
          "duration": 0.109438,
          "end_time": "2020-10-22T12:12:32.883036",
          "exception": false,
          "start_time": "2020-10-22T12:12:32.773598",
          "status": "completed"
        },
        "tags": [],
        "id": "cJ6gUQhFdEa5",
        "outputId": "4681a634-c086-4c38-f905-382c7dbfb424"
      },
      "outputs": [
        {
          "name": "stdout",
          "output_type": "stream",
          "text": [
            "X_train: (5634, 38), y_train: (5634,)\n",
            "X_test: (1409, 38), y_test: (1409,)\n"
          ]
        },
        {
          "data": {
            "text/html": [
              "<div>\n",
              "<style scoped>\n",
              "    .dataframe tbody tr th:only-of-type {\n",
              "        vertical-align: middle;\n",
              "    }\n",
              "\n",
              "    .dataframe tbody tr th {\n",
              "        vertical-align: top;\n",
              "    }\n",
              "\n",
              "    .dataframe thead th {\n",
              "        text-align: right;\n",
              "    }\n",
              "</style>\n",
              "<table border=\"1\" class=\"dataframe\">\n",
              "  <thead>\n",
              "    <tr style=\"text-align: right;\">\n",
              "      <th></th>\n",
              "      <th>SeniorCitizen</th>\n",
              "      <th>tenure</th>\n",
              "      <th>MonthlyCharges</th>\n",
              "      <th>TotalCharges</th>\n",
              "      <th>gender_Female</th>\n",
              "      <th>gender_Male</th>\n",
              "      <th>Partner_No</th>\n",
              "      <th>Partner_Yes</th>\n",
              "      <th>Dependents_No</th>\n",
              "      <th>Dependents_Yes</th>\n",
              "      <th>...</th>\n",
              "      <th>StreamingMovies_Yes</th>\n",
              "      <th>Contract_Month-to-month</th>\n",
              "      <th>Contract_One year</th>\n",
              "      <th>Contract_Two year</th>\n",
              "      <th>PaperlessBilling_No</th>\n",
              "      <th>PaperlessBilling_Yes</th>\n",
              "      <th>PaymentMethod_Bank transfer (automatic)</th>\n",
              "      <th>PaymentMethod_Credit card (automatic)</th>\n",
              "      <th>PaymentMethod_Electronic check</th>\n",
              "      <th>PaymentMethod_Mailed check</th>\n",
              "    </tr>\n",
              "  </thead>\n",
              "  <tbody>\n",
              "    <tr>\n",
              "      <th>1792</th>\n",
              "      <td>0</td>\n",
              "      <td>0.583333</td>\n",
              "      <td>0.508955</td>\n",
              "      <td>0.352144</td>\n",
              "      <td>0</td>\n",
              "      <td>1</td>\n",
              "      <td>0</td>\n",
              "      <td>1</td>\n",
              "      <td>0</td>\n",
              "      <td>1</td>\n",
              "      <td>...</td>\n",
              "      <td>0</td>\n",
              "      <td>1</td>\n",
              "      <td>0</td>\n",
              "      <td>0</td>\n",
              "      <td>0</td>\n",
              "      <td>1</td>\n",
              "      <td>1</td>\n",
              "      <td>0</td>\n",
              "      <td>0</td>\n",
              "      <td>0</td>\n",
              "    </tr>\n",
              "    <tr>\n",
              "      <th>5334</th>\n",
              "      <td>0</td>\n",
              "      <td>0.680556</td>\n",
              "      <td>0.892537</td>\n",
              "      <td>0.609479</td>\n",
              "      <td>1</td>\n",
              "      <td>0</td>\n",
              "      <td>0</td>\n",
              "      <td>1</td>\n",
              "      <td>0</td>\n",
              "      <td>1</td>\n",
              "      <td>...</td>\n",
              "      <td>1</td>\n",
              "      <td>0</td>\n",
              "      <td>0</td>\n",
              "      <td>1</td>\n",
              "      <td>0</td>\n",
              "      <td>1</td>\n",
              "      <td>1</td>\n",
              "      <td>0</td>\n",
              "      <td>0</td>\n",
              "      <td>0</td>\n",
              "    </tr>\n",
              "    <tr>\n",
              "      <th>3245</th>\n",
              "      <td>0</td>\n",
              "      <td>0.319444</td>\n",
              "      <td>0.652239</td>\n",
              "      <td>0.218802</td>\n",
              "      <td>1</td>\n",
              "      <td>0</td>\n",
              "      <td>0</td>\n",
              "      <td>1</td>\n",
              "      <td>0</td>\n",
              "      <td>1</td>\n",
              "      <td>...</td>\n",
              "      <td>0</td>\n",
              "      <td>1</td>\n",
              "      <td>0</td>\n",
              "      <td>0</td>\n",
              "      <td>1</td>\n",
              "      <td>0</td>\n",
              "      <td>0</td>\n",
              "      <td>0</td>\n",
              "      <td>1</td>\n",
              "      <td>0</td>\n",
              "    </tr>\n",
              "    <tr>\n",
              "      <th>1982</th>\n",
              "      <td>0</td>\n",
              "      <td>0.194444</td>\n",
              "      <td>0.016915</td>\n",
              "      <td>0.030905</td>\n",
              "      <td>0</td>\n",
              "      <td>1</td>\n",
              "      <td>1</td>\n",
              "      <td>0</td>\n",
              "      <td>0</td>\n",
              "      <td>1</td>\n",
              "      <td>...</td>\n",
              "      <td>0</td>\n",
              "      <td>1</td>\n",
              "      <td>0</td>\n",
              "      <td>0</td>\n",
              "      <td>1</td>\n",
              "      <td>0</td>\n",
              "      <td>0</td>\n",
              "      <td>0</td>\n",
              "      <td>0</td>\n",
              "      <td>1</td>\n",
              "    </tr>\n",
              "    <tr>\n",
              "      <th>4365</th>\n",
              "      <td>0</td>\n",
              "      <td>0.875000</td>\n",
              "      <td>0.612438</td>\n",
              "      <td>0.579639</td>\n",
              "      <td>0</td>\n",
              "      <td>1</td>\n",
              "      <td>0</td>\n",
              "      <td>1</td>\n",
              "      <td>1</td>\n",
              "      <td>0</td>\n",
              "      <td>...</td>\n",
              "      <td>1</td>\n",
              "      <td>0</td>\n",
              "      <td>0</td>\n",
              "      <td>1</td>\n",
              "      <td>1</td>\n",
              "      <td>0</td>\n",
              "      <td>0</td>\n",
              "      <td>1</td>\n",
              "      <td>0</td>\n",
              "      <td>0</td>\n",
              "    </tr>\n",
              "  </tbody>\n",
              "</table>\n",
              "<p>5 rows × 38 columns</p>\n",
              "</div>"
            ],
            "text/plain": [
              "      SeniorCitizen    tenure  MonthlyCharges  TotalCharges  gender_Female  \\\n",
              "1792              0  0.583333        0.508955      0.352144              0   \n",
              "5334              0  0.680556        0.892537      0.609479              1   \n",
              "3245              0  0.319444        0.652239      0.218802              1   \n",
              "1982              0  0.194444        0.016915      0.030905              0   \n",
              "4365              0  0.875000        0.612438      0.579639              0   \n",
              "\n",
              "      gender_Male  Partner_No  Partner_Yes  Dependents_No  Dependents_Yes  \\\n",
              "1792            1           0            1              0               1   \n",
              "5334            0           0            1              0               1   \n",
              "3245            0           0            1              0               1   \n",
              "1982            1           1            0              0               1   \n",
              "4365            1           0            1              1               0   \n",
              "\n",
              "      ...  StreamingMovies_Yes  Contract_Month-to-month  Contract_One year  \\\n",
              "1792  ...                    0                        1                  0   \n",
              "5334  ...                    1                        0                  0   \n",
              "3245  ...                    0                        1                  0   \n",
              "1982  ...                    0                        1                  0   \n",
              "4365  ...                    1                        0                  0   \n",
              "\n",
              "      Contract_Two year  PaperlessBilling_No  PaperlessBilling_Yes  \\\n",
              "1792                  0                    0                     1   \n",
              "5334                  1                    0                     1   \n",
              "3245                  0                    1                     0   \n",
              "1982                  0                    1                     0   \n",
              "4365                  1                    1                     0   \n",
              "\n",
              "      PaymentMethod_Bank transfer (automatic)  \\\n",
              "1792                                        1   \n",
              "5334                                        1   \n",
              "3245                                        0   \n",
              "1982                                        0   \n",
              "4365                                        0   \n",
              "\n",
              "      PaymentMethod_Credit card (automatic)  PaymentMethod_Electronic check  \\\n",
              "1792                                      0                               0   \n",
              "5334                                      0                               0   \n",
              "3245                                      0                               1   \n",
              "1982                                      0                               0   \n",
              "4365                                      1                               0   \n",
              "\n",
              "      PaymentMethod_Mailed check  \n",
              "1792                           0  \n",
              "5334                           0  \n",
              "3245                           0  \n",
              "1982                           1  \n",
              "4365                           0  \n",
              "\n",
              "[5 rows x 38 columns]"
            ]
          },
          "execution_count": 22,
          "metadata": {},
          "output_type": "execute_result"
        }
      ],
      "source": [
        "# Create feature matrix X without label column 'Churn'\n",
        "X = df2.drop('Churn',axis = 'columns')\n",
        "# Create label vector y\n",
        "y = df2['Churn']\n",
        "\n",
        "X_train, X_test, y_train, y_test = train_test_split(X, y, test_size= 0.2, random_state= 42)\n",
        "print(f'X_train: {X_train.shape}, y_train: {y_train.shape}')\n",
        "print(f'X_test: {X_test.shape}, y_test: {y_test.shape}')\n",
        "\n",
        "# Lets have a look at our training datatset\n",
        "X_train.sample(5)"
      ]
    },
    {
      "cell_type": "markdown",
      "metadata": {
        "papermill": {
          "duration": 0.073448,
          "end_time": "2020-10-22T12:12:33.019147",
          "exception": false,
          "start_time": "2020-10-22T12:12:32.945699",
          "status": "completed"
        },
        "tags": [],
        "id": "0_LSH1ohdEa5"
      },
      "source": [
        "# Modeling <a id =\"15\"></a>\n",
        "\n",
        "## Model Building <a id =\"16\"></a>\n",
        "\n",
        "Building the neural network model requires configuring the input, hidden and output layers. Since we have 38 input features we will create first layer with 38 neurons and 'relu' activation function. Then we will add the second dense layer with 14 nodes (or neurons) and ‘relu’ activation function. Since expected output is binary, in the last layer we add only one neuron with sigmoid activation function.\n",
        "\n",
        "We will use 'binary_crossentropy' since the expected output is binary(churn or not)."
      ]
    },
    {
      "cell_type": "code",
      "execution_count": null,
      "metadata": {
        "execution": {
          "iopub.execute_input": "2020-10-22T12:12:33.204834Z",
          "iopub.status.busy": "2020-10-22T12:12:33.203988Z",
          "iopub.status.idle": "2020-10-22T12:12:33.342264Z",
          "shell.execute_reply": "2020-10-22T12:12:33.342836Z"
        },
        "papermill": {
          "duration": 0.261263,
          "end_time": "2020-10-22T12:12:33.343016",
          "exception": false,
          "start_time": "2020-10-22T12:12:33.081753",
          "status": "completed"
        },
        "tags": [],
        "id": "Lk7QM4KddEa5"
      },
      "outputs": [],
      "source": [
        "model = tf.keras.Sequential([\n",
        "    tf.keras.layers.Dense(38, input_shape= (38,), activation= 'relu'),\n",
        "    tf.keras.layers.Dense(14, activation= 'relu'),\n",
        "    tf.keras.layers.Dense(1, activation= 'sigmoid')     \n",
        "])\n",
        "\n",
        "model.compile(optimizer= 'adam',\n",
        "             loss='binary_crossentropy',\n",
        "             metrics=['accuracy'])"
      ]
    },
    {
      "cell_type": "markdown",
      "metadata": {
        "papermill": {
          "duration": 0.062657,
          "end_time": "2020-10-22T12:12:33.468452",
          "exception": false,
          "start_time": "2020-10-22T12:12:33.405795",
          "status": "completed"
        },
        "tags": [],
        "id": "iocKJOW_dEa6"
      },
      "source": [
        "## Model Training <a id =\"17\"></a>\n",
        "For model training we will run for 100 epochs."
      ]
    },
    {
      "cell_type": "code",
      "execution_count": null,
      "metadata": {
        "_kg_hide-output": true,
        "execution": {
          "iopub.execute_input": "2020-10-22T12:12:33.600366Z",
          "iopub.status.busy": "2020-10-22T12:12:33.599545Z",
          "iopub.status.idle": "2020-10-22T12:12:56.644935Z",
          "shell.execute_reply": "2020-10-22T12:12:56.643545Z"
        },
        "papermill": {
          "duration": 23.113404,
          "end_time": "2020-10-22T12:12:56.645078",
          "exception": false,
          "start_time": "2020-10-22T12:12:33.531674",
          "status": "completed"
        },
        "tags": [],
        "id": "4naAFqWBdEa6",
        "outputId": "64f5c69b-5d8a-4786-ffac-97820f018cb1"
      },
      "outputs": [
        {
          "name": "stdout",
          "output_type": "stream",
          "text": [
            "Epoch 1/100\n",
            "177/177 [==============================] - 0s 1ms/step - loss: 0.4848 - accuracy: 0.7634\n",
            "Epoch 2/100\n",
            "177/177 [==============================] - 0s 1ms/step - loss: 0.4291 - accuracy: 0.7968\n",
            "Epoch 3/100\n",
            "177/177 [==============================] - 0s 1ms/step - loss: 0.4227 - accuracy: 0.8000\n",
            "Epoch 4/100\n",
            "177/177 [==============================] - 0s 1ms/step - loss: 0.4199 - accuracy: 0.7998\n",
            "Epoch 5/100\n",
            "177/177 [==============================] - 0s 1ms/step - loss: 0.4166 - accuracy: 0.8019\n",
            "Epoch 6/100\n",
            "177/177 [==============================] - 0s 1ms/step - loss: 0.4155 - accuracy: 0.8023\n",
            "Epoch 7/100\n",
            "177/177 [==============================] - 0s 1ms/step - loss: 0.4143 - accuracy: 0.8035\n",
            "Epoch 8/100\n",
            "177/177 [==============================] - 0s 1ms/step - loss: 0.4138 - accuracy: 0.7989\n",
            "Epoch 9/100\n",
            "177/177 [==============================] - 0s 1ms/step - loss: 0.4104 - accuracy: 0.8055\n",
            "Epoch 10/100\n",
            "177/177 [==============================] - 0s 1ms/step - loss: 0.4113 - accuracy: 0.8028\n",
            "Epoch 11/100\n",
            "177/177 [==============================] - 0s 1ms/step - loss: 0.4096 - accuracy: 0.8067\n",
            "Epoch 12/100\n",
            "177/177 [==============================] - 0s 1ms/step - loss: 0.4074 - accuracy: 0.8064\n",
            "Epoch 13/100\n",
            "177/177 [==============================] - 0s 1ms/step - loss: 0.4072 - accuracy: 0.8081\n",
            "Epoch 14/100\n",
            "177/177 [==============================] - 0s 1ms/step - loss: 0.4066 - accuracy: 0.8014\n",
            "Epoch 15/100\n",
            "177/177 [==============================] - 0s 1ms/step - loss: 0.4047 - accuracy: 0.8090\n",
            "Epoch 16/100\n",
            "177/177 [==============================] - 0s 1ms/step - loss: 0.4037 - accuracy: 0.8072\n",
            "Epoch 17/100\n",
            "177/177 [==============================] - 0s 1ms/step - loss: 0.4033 - accuracy: 0.8087\n",
            "Epoch 18/100\n",
            "177/177 [==============================] - 0s 1ms/step - loss: 0.4011 - accuracy: 0.8117\n",
            "Epoch 19/100\n",
            "177/177 [==============================] - 0s 1ms/step - loss: 0.4003 - accuracy: 0.8108\n",
            "Epoch 20/100\n",
            "177/177 [==============================] - 0s 1ms/step - loss: 0.3985 - accuracy: 0.8145\n",
            "Epoch 21/100\n",
            "177/177 [==============================] - 0s 1ms/step - loss: 0.4003 - accuracy: 0.8117\n",
            "Epoch 22/100\n",
            "177/177 [==============================] - 0s 1ms/step - loss: 0.3955 - accuracy: 0.8110\n",
            "Epoch 23/100\n",
            "177/177 [==============================] - 0s 1ms/step - loss: 0.3943 - accuracy: 0.8117\n",
            "Epoch 24/100\n",
            "177/177 [==============================] - 0s 1ms/step - loss: 0.3925 - accuracy: 0.8149\n",
            "Epoch 25/100\n",
            "177/177 [==============================] - 0s 1ms/step - loss: 0.3928 - accuracy: 0.8108\n",
            "Epoch 26/100\n",
            "177/177 [==============================] - 0s 1ms/step - loss: 0.3905 - accuracy: 0.8159\n",
            "Epoch 27/100\n",
            "177/177 [==============================] - 0s 1ms/step - loss: 0.3888 - accuracy: 0.8177\n",
            "Epoch 28/100\n",
            "177/177 [==============================] - 0s 1ms/step - loss: 0.3881 - accuracy: 0.8145\n",
            "Epoch 29/100\n",
            "177/177 [==============================] - 0s 1ms/step - loss: 0.3881 - accuracy: 0.8142\n",
            "Epoch 30/100\n",
            "177/177 [==============================] - 0s 1ms/step - loss: 0.3871 - accuracy: 0.8147\n",
            "Epoch 31/100\n",
            "177/177 [==============================] - 0s 1ms/step - loss: 0.3866 - accuracy: 0.8161\n",
            "Epoch 32/100\n",
            "177/177 [==============================] - 0s 1ms/step - loss: 0.3853 - accuracy: 0.8152\n",
            "Epoch 33/100\n",
            "177/177 [==============================] - 0s 1ms/step - loss: 0.3835 - accuracy: 0.8152\n",
            "Epoch 34/100\n",
            "177/177 [==============================] - 0s 1ms/step - loss: 0.3828 - accuracy: 0.8179\n",
            "Epoch 35/100\n",
            "177/177 [==============================] - 0s 1ms/step - loss: 0.3838 - accuracy: 0.8177\n",
            "Epoch 36/100\n",
            "177/177 [==============================] - 0s 1ms/step - loss: 0.3818 - accuracy: 0.8170\n",
            "Epoch 37/100\n",
            "177/177 [==============================] - 0s 1ms/step - loss: 0.3792 - accuracy: 0.8174\n",
            "Epoch 38/100\n",
            "177/177 [==============================] - 0s 1ms/step - loss: 0.3812 - accuracy: 0.8165\n",
            "Epoch 39/100\n",
            "177/177 [==============================] - 0s 1ms/step - loss: 0.3767 - accuracy: 0.8181\n",
            "Epoch 40/100\n",
            "177/177 [==============================] - 0s 1ms/step - loss: 0.3778 - accuracy: 0.8191\n",
            "Epoch 41/100\n",
            "177/177 [==============================] - 0s 1ms/step - loss: 0.3782 - accuracy: 0.8154\n",
            "Epoch 42/100\n",
            "177/177 [==============================] - 0s 1ms/step - loss: 0.3774 - accuracy: 0.8184\n",
            "Epoch 43/100\n",
            "177/177 [==============================] - 0s 1ms/step - loss: 0.3773 - accuracy: 0.8195\n",
            "Epoch 44/100\n",
            "177/177 [==============================] - 0s 1ms/step - loss: 0.3733 - accuracy: 0.8229\n",
            "Epoch 45/100\n",
            "177/177 [==============================] - 0s 1ms/step - loss: 0.3754 - accuracy: 0.8186\n",
            "Epoch 46/100\n",
            "177/177 [==============================] - 0s 1ms/step - loss: 0.3706 - accuracy: 0.8220\n",
            "Epoch 47/100\n",
            "177/177 [==============================] - 0s 1ms/step - loss: 0.3773 - accuracy: 0.8159\n",
            "Epoch 48/100\n",
            "177/177 [==============================] - 0s 1ms/step - loss: 0.3690 - accuracy: 0.8229\n",
            "Epoch 49/100\n",
            "177/177 [==============================] - 0s 1ms/step - loss: 0.3688 - accuracy: 0.8227\n",
            "Epoch 50/100\n",
            "177/177 [==============================] - 0s 1ms/step - loss: 0.3678 - accuracy: 0.8225\n",
            "Epoch 51/100\n",
            "177/177 [==============================] - 0s 1ms/step - loss: 0.3678 - accuracy: 0.8209\n",
            "Epoch 52/100\n",
            "177/177 [==============================] - 0s 1ms/step - loss: 0.3658 - accuracy: 0.8234\n",
            "Epoch 53/100\n",
            "177/177 [==============================] - 0s 1ms/step - loss: 0.3684 - accuracy: 0.8243\n",
            "Epoch 54/100\n",
            "177/177 [==============================] - 0s 1ms/step - loss: 0.3661 - accuracy: 0.8214\n",
            "Epoch 55/100\n",
            "177/177 [==============================] - 0s 1ms/step - loss: 0.3652 - accuracy: 0.8245\n",
            "Epoch 56/100\n",
            "177/177 [==============================] - 0s 1ms/step - loss: 0.3666 - accuracy: 0.8229\n",
            "Epoch 57/100\n",
            "177/177 [==============================] - 0s 1ms/step - loss: 0.3622 - accuracy: 0.8252\n",
            "Epoch 58/100\n",
            "177/177 [==============================] - 0s 1ms/step - loss: 0.3624 - accuracy: 0.8198\n",
            "Epoch 59/100\n",
            "177/177 [==============================] - 0s 1ms/step - loss: 0.3622 - accuracy: 0.8252\n",
            "Epoch 60/100\n",
            "177/177 [==============================] - 0s 1ms/step - loss: 0.3597 - accuracy: 0.8294\n",
            "Epoch 61/100\n",
            "177/177 [==============================] - 0s 1ms/step - loss: 0.3585 - accuracy: 0.8273\n",
            "Epoch 62/100\n",
            "177/177 [==============================] - 0s 1ms/step - loss: 0.3605 - accuracy: 0.8239\n",
            "Epoch 63/100\n",
            "177/177 [==============================] - 0s 1ms/step - loss: 0.3587 - accuracy: 0.8268\n",
            "Epoch 64/100\n",
            "177/177 [==============================] - 0s 1ms/step - loss: 0.3572 - accuracy: 0.8252\n",
            "Epoch 65/100\n",
            "177/177 [==============================] - 0s 1ms/step - loss: 0.3561 - accuracy: 0.8287\n",
            "Epoch 66/100\n",
            "177/177 [==============================] - 0s 1ms/step - loss: 0.3538 - accuracy: 0.8278\n",
            "Epoch 67/100\n",
            "177/177 [==============================] - 0s 1ms/step - loss: 0.3577 - accuracy: 0.8291\n",
            "Epoch 68/100\n",
            "177/177 [==============================] - 0s 1ms/step - loss: 0.3547 - accuracy: 0.8282\n",
            "Epoch 69/100\n",
            "177/177 [==============================] - 0s 1ms/step - loss: 0.3529 - accuracy: 0.8326\n",
            "Epoch 70/100\n",
            "177/177 [==============================] - 0s 1ms/step - loss: 0.3529 - accuracy: 0.8273\n",
            "Epoch 71/100\n",
            "177/177 [==============================] - 0s 1ms/step - loss: 0.3520 - accuracy: 0.8323\n",
            "Epoch 72/100\n",
            "177/177 [==============================] - 0s 1ms/step - loss: 0.3508 - accuracy: 0.8330\n",
            "Epoch 73/100\n",
            "177/177 [==============================] - 0s 1ms/step - loss: 0.3501 - accuracy: 0.8316\n",
            "Epoch 74/100\n",
            "177/177 [==============================] - 0s 1ms/step - loss: 0.3494 - accuracy: 0.8284\n",
            "Epoch 75/100\n",
            "177/177 [==============================] - 0s 1ms/step - loss: 0.3508 - accuracy: 0.8330\n",
            "Epoch 76/100\n",
            "177/177 [==============================] - 0s 1ms/step - loss: 0.3479 - accuracy: 0.8301\n",
            "Epoch 77/100\n",
            "177/177 [==============================] - 0s 1ms/step - loss: 0.3469 - accuracy: 0.8348\n",
            "Epoch 78/100\n",
            "177/177 [==============================] - 0s 1ms/step - loss: 0.3464 - accuracy: 0.8356\n",
            "Epoch 79/100\n",
            "177/177 [==============================] - 0s 1ms/step - loss: 0.3458 - accuracy: 0.8328\n",
            "Epoch 80/100\n",
            "177/177 [==============================] - 0s 1ms/step - loss: 0.3451 - accuracy: 0.8342\n",
            "Epoch 81/100\n",
            "177/177 [==============================] - 0s 1ms/step - loss: 0.3451 - accuracy: 0.8342\n",
            "Epoch 82/100\n",
            "177/177 [==============================] - 0s 1ms/step - loss: 0.3449 - accuracy: 0.8348\n",
            "Epoch 83/100\n",
            "177/177 [==============================] - 0s 1ms/step - loss: 0.3434 - accuracy: 0.8371\n",
            "Epoch 84/100\n",
            "177/177 [==============================] - 0s 1ms/step - loss: 0.3439 - accuracy: 0.8376\n",
            "Epoch 85/100\n",
            "177/177 [==============================] - 0s 1ms/step - loss: 0.3430 - accuracy: 0.8362\n",
            "Epoch 86/100\n",
            "177/177 [==============================] - 0s 1ms/step - loss: 0.3428 - accuracy: 0.8351\n",
            "Epoch 87/100\n",
            "177/177 [==============================] - 0s 1ms/step - loss: 0.3402 - accuracy: 0.8397\n",
            "Epoch 88/100\n",
            "177/177 [==============================] - 0s 1ms/step - loss: 0.3405 - accuracy: 0.8390\n",
            "Epoch 89/100\n",
            "177/177 [==============================] - 0s 1ms/step - loss: 0.3432 - accuracy: 0.8348\n",
            "Epoch 90/100\n",
            "177/177 [==============================] - 0s 1ms/step - loss: 0.3414 - accuracy: 0.8362\n",
            "Epoch 91/100\n",
            "177/177 [==============================] - 0s 1ms/step - loss: 0.3387 - accuracy: 0.8385\n",
            "Epoch 92/100\n",
            "177/177 [==============================] - 0s 1ms/step - loss: 0.3367 - accuracy: 0.8390\n",
            "Epoch 93/100\n",
            "177/177 [==============================] - 0s 1ms/step - loss: 0.3378 - accuracy: 0.8372\n",
            "Epoch 94/100\n",
            "177/177 [==============================] - 0s 1ms/step - loss: 0.3347 - accuracy: 0.8403\n",
            "Epoch 95/100\n",
            "177/177 [==============================] - 0s 1ms/step - loss: 0.3342 - accuracy: 0.8404\n",
            "Epoch 96/100\n",
            "177/177 [==============================] - 0s 1ms/step - loss: 0.3401 - accuracy: 0.8362\n",
            "Epoch 97/100\n",
            "177/177 [==============================] - 0s 1ms/step - loss: 0.3351 - accuracy: 0.8390\n",
            "Epoch 98/100\n",
            "177/177 [==============================] - 0s 1ms/step - loss: 0.3338 - accuracy: 0.8413\n",
            "Epoch 99/100\n",
            "177/177 [==============================] - 0s 1ms/step - loss: 0.3336 - accuracy: 0.8403\n",
            "Epoch 100/100\n",
            "177/177 [==============================] - 0s 1ms/step - loss: 0.3336 - accuracy: 0.8429\n"
          ]
        },
        {
          "data": {
            "text/plain": [
              "<tensorflow.python.keras.callbacks.History at 0x7f1a6a988450>"
            ]
          },
          "execution_count": 24,
          "metadata": {},
          "output_type": "execute_result"
        }
      ],
      "source": [
        "model.fit(X_train, y_train, epochs= 100)"
      ]
    },
    {
      "cell_type": "markdown",
      "metadata": {
        "papermill": {
          "duration": 0.304554,
          "end_time": "2020-10-22T12:12:57.254455",
          "exception": false,
          "start_time": "2020-10-22T12:12:56.949901",
          "status": "completed"
        },
        "tags": [],
        "id": "vGsTQRTCdEa7"
      },
      "source": [
        "## Model Evaluation <a id =\"18\"></a>\n",
        "For model evaluation we will use test data."
      ]
    },
    {
      "cell_type": "code",
      "execution_count": null,
      "metadata": {
        "execution": {
          "iopub.execute_input": "2020-10-22T12:12:57.869804Z",
          "iopub.status.busy": "2020-10-22T12:12:57.868735Z",
          "iopub.status.idle": "2020-10-22T12:12:58.106077Z",
          "shell.execute_reply": "2020-10-22T12:12:58.105400Z"
        },
        "papermill": {
          "duration": 0.547421,
          "end_time": "2020-10-22T12:12:58.106216",
          "exception": false,
          "start_time": "2020-10-22T12:12:57.558795",
          "status": "completed"
        },
        "tags": [],
        "id": "wosgB8KfdEa7",
        "outputId": "c54ed5d9-960b-42ba-cc80-8ef3b0810ea6"
      },
      "outputs": [
        {
          "name": "stdout",
          "output_type": "stream",
          "text": [
            "45/45 [==============================] - 0s 866us/step - loss: 0.4752 - accuracy: 0.7892\n"
          ]
        },
        {
          "data": {
            "text/plain": [
              "[0.4751974642276764, 0.7892122268676758]"
            ]
          },
          "execution_count": 25,
          "metadata": {},
          "output_type": "execute_result"
        }
      ],
      "source": [
        "model.evaluate(X_test, y_test)"
      ]
    },
    {
      "cell_type": "markdown",
      "metadata": {
        "papermill": {
          "duration": 0.303995,
          "end_time": "2020-10-22T12:12:58.715938",
          "exception": false,
          "start_time": "2020-10-22T12:12:58.411943",
          "status": "completed"
        },
        "tags": [],
        "id": "21P1IypddEa7"
      },
      "source": [
        "Now lets verify the model predictions on test data."
      ]
    },
    {
      "cell_type": "code",
      "execution_count": null,
      "metadata": {
        "execution": {
          "iopub.execute_input": "2020-10-22T12:12:59.335344Z",
          "iopub.status.busy": "2020-10-22T12:12:59.334600Z",
          "iopub.status.idle": "2020-10-22T12:12:59.498175Z",
          "shell.execute_reply": "2020-10-22T12:12:59.497365Z"
        },
        "papermill": {
          "duration": 0.477311,
          "end_time": "2020-10-22T12:12:59.498306",
          "exception": false,
          "start_time": "2020-10-22T12:12:59.020995",
          "status": "completed"
        },
        "tags": [],
        "id": "hJ4oAbfndEa8",
        "outputId": "7efe8827-cdb7-4915-b4b4-e3034b63e7a0"
      },
      "outputs": [
        {
          "data": {
            "text/plain": [
              "array([[7.2181785e-01],\n",
              "       [8.5435718e-02],\n",
              "       [5.3043233e-05],\n",
              "       [7.3946369e-01],\n",
              "       [7.5830430e-02]], dtype=float32)"
            ]
          },
          "execution_count": 26,
          "metadata": {},
          "output_type": "execute_result"
        }
      ],
      "source": [
        "predictions = model.predict(X_test)\n",
        "predictions[:5]"
      ]
    },
    {
      "cell_type": "markdown",
      "metadata": {
        "papermill": {
          "duration": 0.306557,
          "end_time": "2020-10-22T12:13:00.113680",
          "exception": false,
          "start_time": "2020-10-22T12:12:59.807123",
          "status": "completed"
        },
        "tags": [],
        "id": "CShvSCY7dEa8"
      },
      "source": [
        "As you can see from the results that predictions for the test data are in the form of 2D array with values ranging from 0 to 1. So in order to get in the binary format we will use threshold 0.5, anything more than 0.5 will be 1(churn-yes) else 0(churn-no)"
      ]
    },
    {
      "cell_type": "code",
      "execution_count": null,
      "metadata": {
        "execution": {
          "iopub.execute_input": "2020-10-22T12:13:00.737414Z",
          "iopub.status.busy": "2020-10-22T12:13:00.736436Z",
          "iopub.status.idle": "2020-10-22T12:13:00.741530Z",
          "shell.execute_reply": "2020-10-22T12:13:00.740825Z"
        },
        "papermill": {
          "duration": 0.322288,
          "end_time": "2020-10-22T12:13:00.741676",
          "exception": false,
          "start_time": "2020-10-22T12:13:00.419388",
          "status": "completed"
        },
        "tags": [],
        "id": "9M_pHeYIdEa8",
        "outputId": "5deb7558-40fd-4ade-f4d2-983ff4c29619"
      },
      "outputs": [
        {
          "data": {
            "text/plain": [
              "[1, 0, 0, 1, 0, 0, 0, 0, 0, 0]"
            ]
          },
          "execution_count": 27,
          "metadata": {},
          "output_type": "execute_result"
        }
      ],
      "source": [
        "y_pred = []\n",
        "\n",
        "for val in predictions:\n",
        "    if val > 0.5:\n",
        "        y_pred.append(1)\n",
        "    else:\n",
        "        y_pred.append(0)\n",
        "            \n",
        "y_pred[:10]"
      ]
    },
    {
      "cell_type": "markdown",
      "metadata": {
        "papermill": {
          "duration": 0.307268,
          "end_time": "2020-10-22T12:13:01.357443",
          "exception": false,
          "start_time": "2020-10-22T12:13:01.050175",
          "status": "completed"
        },
        "tags": [],
        "id": "ldlDV38adEa9"
      },
      "source": [
        "Lets create a dataframe of true values and predicted values for comparison."
      ]
    },
    {
      "cell_type": "code",
      "execution_count": null,
      "metadata": {
        "execution": {
          "iopub.execute_input": "2020-10-22T12:13:01.988860Z",
          "iopub.status.busy": "2020-10-22T12:13:01.987798Z",
          "iopub.status.idle": "2020-10-22T12:13:01.993133Z",
          "shell.execute_reply": "2020-10-22T12:13:01.992354Z"
        },
        "papermill": {
          "duration": 0.328302,
          "end_time": "2020-10-22T12:13:01.993265",
          "exception": false,
          "start_time": "2020-10-22T12:13:01.664963",
          "status": "completed"
        },
        "tags": [],
        "id": "cIAGxBrHdEa9",
        "outputId": "fc14bd42-a101-4491-98ee-683fc149dd8d"
      },
      "outputs": [
        {
          "data": {
            "text/html": [
              "<div>\n",
              "<style scoped>\n",
              "    .dataframe tbody tr th:only-of-type {\n",
              "        vertical-align: middle;\n",
              "    }\n",
              "\n",
              "    .dataframe tbody tr th {\n",
              "        vertical-align: top;\n",
              "    }\n",
              "\n",
              "    .dataframe thead th {\n",
              "        text-align: right;\n",
              "    }\n",
              "</style>\n",
              "<table border=\"1\" class=\"dataframe\">\n",
              "  <thead>\n",
              "    <tr style=\"text-align: right;\">\n",
              "      <th></th>\n",
              "      <th>y_test</th>\n",
              "      <th>y_pred</th>\n",
              "    </tr>\n",
              "  </thead>\n",
              "  <tbody>\n",
              "    <tr>\n",
              "      <th>185</th>\n",
              "      <td>1</td>\n",
              "      <td>1</td>\n",
              "    </tr>\n",
              "    <tr>\n",
              "      <th>2715</th>\n",
              "      <td>0</td>\n",
              "      <td>0</td>\n",
              "    </tr>\n",
              "    <tr>\n",
              "      <th>3825</th>\n",
              "      <td>0</td>\n",
              "      <td>0</td>\n",
              "    </tr>\n",
              "    <tr>\n",
              "      <th>1807</th>\n",
              "      <td>1</td>\n",
              "      <td>1</td>\n",
              "    </tr>\n",
              "    <tr>\n",
              "      <th>132</th>\n",
              "      <td>0</td>\n",
              "      <td>0</td>\n",
              "    </tr>\n",
              "    <tr>\n",
              "      <th>1263</th>\n",
              "      <td>1</td>\n",
              "      <td>0</td>\n",
              "    </tr>\n",
              "    <tr>\n",
              "      <th>3732</th>\n",
              "      <td>0</td>\n",
              "      <td>0</td>\n",
              "    </tr>\n",
              "    <tr>\n",
              "      <th>1672</th>\n",
              "      <td>0</td>\n",
              "      <td>0</td>\n",
              "    </tr>\n",
              "    <tr>\n",
              "      <th>811</th>\n",
              "      <td>1</td>\n",
              "      <td>0</td>\n",
              "    </tr>\n",
              "    <tr>\n",
              "      <th>2526</th>\n",
              "      <td>1</td>\n",
              "      <td>0</td>\n",
              "    </tr>\n",
              "  </tbody>\n",
              "</table>\n",
              "</div>"
            ],
            "text/plain": [
              "      y_test  y_pred\n",
              "185        1       1\n",
              "2715       0       0\n",
              "3825       0       0\n",
              "1807       1       1\n",
              "132        0       0\n",
              "1263       1       0\n",
              "3732       0       0\n",
              "1672       0       0\n",
              "811        1       0\n",
              "2526       1       0"
            ]
          },
          "execution_count": 28,
          "metadata": {},
          "output_type": "execute_result"
        }
      ],
      "source": [
        "df_true_pred = pd.DataFrame({'y_test':y_test, 'y_pred':y_pred}) \n",
        "df_true_pred[:10]"
      ]
    },
    {
      "cell_type": "markdown",
      "metadata": {
        "papermill": {
          "duration": 0.307063,
          "end_time": "2020-10-22T12:13:02.609366",
          "exception": false,
          "start_time": "2020-10-22T12:13:02.302303",
          "status": "completed"
        },
        "tags": [],
        "id": "sei78wcHdEa-"
      },
      "source": [
        "Check stats like precision, recall and f1-score"
      ]
    },
    {
      "cell_type": "code",
      "execution_count": null,
      "metadata": {
        "execution": {
          "iopub.execute_input": "2020-10-22T12:13:03.233856Z",
          "iopub.status.busy": "2020-10-22T12:13:03.233088Z",
          "iopub.status.idle": "2020-10-22T12:13:03.244170Z",
          "shell.execute_reply": "2020-10-22T12:13:03.245144Z"
        },
        "papermill": {
          "duration": 0.329087,
          "end_time": "2020-10-22T12:13:03.245369",
          "exception": false,
          "start_time": "2020-10-22T12:13:02.916282",
          "status": "completed"
        },
        "tags": [],
        "id": "E--EMMC_dEa_",
        "outputId": "736214f7-3c32-4603-913f-03237a878ad8"
      },
      "outputs": [
        {
          "name": "stdout",
          "output_type": "stream",
          "text": [
            "              precision    recall  f1-score   support\n",
            "\n",
            "           0       0.85      0.87      0.86      1036\n",
            "           1       0.61      0.56      0.58       373\n",
            "\n",
            "    accuracy                           0.79      1409\n",
            "   macro avg       0.73      0.72      0.72      1409\n",
            "weighted avg       0.78      0.79      0.79      1409\n",
            "\n"
          ]
        }
      ],
      "source": [
        "print(classification_report(y_test,y_pred))"
      ]
    },
    {
      "cell_type": "markdown",
      "metadata": {
        "papermill": {
          "duration": 0.309528,
          "end_time": "2020-10-22T12:13:03.864461",
          "exception": false,
          "start_time": "2020-10-22T12:13:03.554933",
          "status": "completed"
        },
        "tags": [],
        "id": "VPt6RgL-dEa_"
      },
      "source": [
        "From the report we can see that,\n",
        "* Precision(Accuracy of positive predictions), Recall(Fraction of positives that were correctly identified) and F1 score(What percent of positive predictions were correct) for 'class 0' is more than 80% and around 60% for 'class 1'\n",
        "* The accuracy of the model was about 79% which is better than the 73.46%. Remember that 73.46% customer from given data do not churn.\n",
        "\n",
        "Now let's print the confusion matrix for better visualization."
      ]
    },
    {
      "cell_type": "code",
      "execution_count": null,
      "metadata": {
        "execution": {
          "iopub.execute_input": "2020-10-22T12:13:04.489675Z",
          "iopub.status.busy": "2020-10-22T12:13:04.488789Z",
          "iopub.status.idle": "2020-10-22T12:13:04.735360Z",
          "shell.execute_reply": "2020-10-22T12:13:04.734564Z"
        },
        "papermill": {
          "duration": 0.561626,
          "end_time": "2020-10-22T12:13:04.735500",
          "exception": false,
          "start_time": "2020-10-22T12:13:04.173874",
          "status": "completed"
        },
        "tags": [],
        "id": "LJZHMVkPdEa_",
        "outputId": "1ebb05de-be34-4b94-c796-ab17a36d8c79"
      },
      "outputs": [
        {
          "data": {
            "text/plain": [
              "Text(69.0, 0.5, 'Truth')"
            ]
          },
          "execution_count": 30,
          "metadata": {},
          "output_type": "execute_result"
        },
        {
          "data": {
            "image/png": "[encoded data removed]",
            "text/plain": [
              "<Figure size 720x504 with 2 Axes>"
            ]
          },
          "metadata": {
            "needs_background": "light"
          },
          "output_type": "display_data"
        }
      ],
      "source": [
        "cm = tf.math. confusion_matrix(labels= y_test, predictions= y_pred)\n",
        "plt.figure(figsize = (10, 7))\n",
        "sns.heatmap(cm, annot= True, fmt= 'd')\n",
        "plt.xlabel('Predicted')\n",
        "plt.ylabel('Truth')"
      ]
    },
    {
      "cell_type": "markdown",
      "metadata": {
        "papermill": {
          "duration": 0.308711,
          "end_time": "2020-10-22T12:13:05.354043",
          "exception": false,
          "start_time": "2020-10-22T12:13:05.045332",
          "status": "completed"
        },
        "tags": [],
        "id": "mSaxEvGxdEbA"
      },
      "source": [
        "# Conclusion <a id =\"19\"></a>\n",
        "In EDA I could have gone more in detail for all the features and their effect on the customer churn. But I have only explained few major features which has the highest impact on customer attrition. Predicting customer churn is very tricky as there are so many external factors are also in play like what competition is doing and where does our product or service stand in the market. But all of these is possible to represent with data and hence good model can be built, tricky but possible!"
      ]
    },
    {
      "cell_type": "markdown",
      "metadata": {
        "papermill": {
          "duration": 0.345519,
          "end_time": "2020-10-22T12:13:06.008164",
          "exception": false,
          "start_time": "2020-10-22T12:13:05.662645",
          "status": "completed"
        },
        "tags": [],
        "id": "oAr0xyN1dEbA"
      },
      "source": [
        "# Reference <a id =\"20\"></a>\n",
        "* https://www.youtube.com/watch?v=ocMd2loRfWE\n",
        "* https://www.youtube.com/watch?v=MSBY28IJ47U&list=PLeo1K3hjS3uu7CxAacxVndI4bE_o3BDtO&index=18"
      ]
    }
  ],
  "metadata": {
    "kernelspec": {
      "display_name": "Python 3",
      "language": "python",
      "name": "python3"
    },
    "language_info": {
      "codemirror_mode": {
        "name": "ipython",
        "version": 3
      },
      "file_extension": ".py",
      "mimetype": "text/x-python",
      "name": "python",
      "nbconvert_exporter": "python",
      "pygments_lexer": "ipython3",
      "version": "3.7.6"
    },
    "papermill": {
      "duration": 52.861449,
      "end_time": "2020-10-22T12:13:06.438303",
      "environment_variables": {},
      "exception": null,
      "input_path": "__notebook__.ipynb",
      "output_path": "__notebook__.ipynb",
      "parameters": {},
      "start_time": "2020-10-22T12:12:13.576854",
      "version": "2.1.0"
    },
    "colab": {
      "provenance": [],
      "include_colab_link": true
    }
  },
  "nbformat": 4,
  "nbformat_minor": 0
}