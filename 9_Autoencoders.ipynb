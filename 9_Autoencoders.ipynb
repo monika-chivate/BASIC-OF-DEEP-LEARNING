{
  "cells": [
    {
      "cell_type": "markdown",
      "metadata": {
        "id": "view-in-github",
        "colab_type": "text"
      },
      "source": [
        "<a href=\"https://colab.research.google.com/github/monika-chivate/exam/blob/main/9_Autoencoders.ipynb\" target=\"_parent\"><img src=\"https://colab.research.google.com/assets/colab-badge.svg\" alt=\"Open In Colab\"/></a>"
      ]
    },
    {
      "cell_type": "code",
      "execution_count": null,
      "id": "ed80d0fd",
      "metadata": {
        "id": "ed80d0fd"
      },
      "outputs": [],
      "source": [
        "from keras.models import Sequential \n",
        "from keras.layers import Dense,Conv2D,MaxPooling2D,UpSampling2D\n",
        "from keras import Input, Model\n",
        "from keras.datasets import mnist\n",
        "\n",
        "import numpy as np\n",
        "import matplotlib.pyplot as plt"
      ]
    },
    {
      "cell_type": "code",
      "execution_count": null,
      "id": "0be3611a",
      "metadata": {
        "id": "0be3611a"
      },
      "outputs": [],
      "source": [
        "encoding_dim = 15 \n",
        "input_img = Input(shape=(784,))\n",
        "encoded = Dense(encoding_dim, activation='relu')(input_img)\n",
        "decoded = Dense(784, activation='sigmoid')(encoded)\n",
        "autoencoder = Model(input_img, decoded)"
      ]
    },
    {
      "cell_type": "code",
      "execution_count": null,
      "id": "25c069d5",
      "metadata": {
        "id": "25c069d5",
        "outputId": "66123cb5-58bf-475e-808f-ae22dfd947ef"
      },
      "outputs": [
        {
          "name": "stdout",
          "output_type": "stream",
          "text": [
            "Model: \"model\"\n",
            "_________________________________________________________________\n",
            " Layer (type)                Output Shape              Param #   \n",
            "=================================================================\n",
            " input_1 (InputLayer)        [(None, 784)]             0         \n",
            "                                                                 \n",
            " dense (Dense)               (None, 15)                11775     \n",
            "                                                                 \n",
            " dense_1 (Dense)             (None, 784)               12544     \n",
            "                                                                 \n",
            "=================================================================\n",
            "Total params: 24,319\n",
            "Trainable params: 24,319\n",
            "Non-trainable params: 0\n",
            "_________________________________________________________________\n"
          ]
        }
      ],
      "source": [
        "autoencoder.summary()"
      ]
    },
    {
      "cell_type": "code",
      "execution_count": null,
      "id": "fda8e082",
      "metadata": {
        "id": "fda8e082"
      },
      "outputs": [],
      "source": [
        "encoder = Model(input_img, encoded)\n",
        "encoded_input = Input(shape=(encoding_dim,))\n",
        "\n",
        "decoder_layer = autoencoder.layers[-1]\n",
        "\n",
        "decoder = Model(encoded_input, decoder_layer(encoded_input))"
      ]
    },
    {
      "cell_type": "code",
      "execution_count": null,
      "id": "f97d99c6",
      "metadata": {
        "id": "f97d99c6"
      },
      "outputs": [],
      "source": [
        "autoencoder.compile(optimizer='adam', loss='binary_crossentropy')"
      ]
    },
    {
      "cell_type": "code",
      "execution_count": null,
      "id": "6e35cef3",
      "metadata": {
        "id": "6e35cef3"
      },
      "outputs": [],
      "source": [
        "(x_train, y_train), (x_test, y_test) = mnist.load_data()"
      ]
    },
    {
      "cell_type": "code",
      "execution_count": null,
      "id": "f4ff6d20",
      "metadata": {
        "id": "f4ff6d20",
        "outputId": "84025689-dad0-4f27-d735-d6445caf449c"
      },
      "outputs": [
        {
          "name": "stdout",
          "output_type": "stream",
          "text": [
            "(60000, 784)\n",
            "(10000, 784)\n"
          ]
        }
      ],
      "source": [
        "x_train = x_train.astype('float32') / 255.\n",
        "x_test = x_test.astype('float32') / 255.\n",
        "x_train = x_train.reshape((len(x_train), np.prod(x_train.shape[1:])))\n",
        "x_test = x_test.reshape((len(x_test), np.prod(x_test.shape[1:])))\n",
        "print(x_train.shape)\n",
        "print(x_test.shape)"
      ]
    },
    {
      "cell_type": "code",
      "execution_count": null,
      "id": "f3c1e662",
      "metadata": {
        "id": "f3c1e662",
        "outputId": "d5e80ce7-0164-4546-c941-fc5558c04198"
      },
      "outputs": [
        {
          "data": {
            "text/plain": [
              "<matplotlib.image.AxesImage at 0x226cfe22c10>"
            ]
          },
          "execution_count": 15,
          "metadata": {},
          "output_type": "execute_result"
        },
        {
          "data": {
            "image/png": "[encoded data removed]",
            "text/plain": [
              "<Figure size 432x288 with 1 Axes>"
            ]
          },
          "metadata": {
            "needs_background": "light"
          },
          "output_type": "display_data"
        }
      ],
      "source": [
        "plt.imshow(x_test[0].reshape(28,28))"
      ]
    },
    {
      "cell_type": "code",
      "execution_count": null,
      "id": "b423df29",
      "metadata": {
        "id": "b423df29",
        "outputId": "b8dbbe6c-baeb-4e5d-8d2e-8abb9c3854e7"
      },
      "outputs": [
        {
          "name": "stdout",
          "output_type": "stream",
          "text": [
            "Epoch 1/15\n",
            "235/235 [==============================] - 3s 8ms/step - loss: 0.3116 - val_loss: 0.2261\n",
            "Epoch 2/15\n",
            "235/235 [==============================] - 2s 7ms/step - loss: 0.2020 - val_loss: 0.1826\n",
            "Epoch 3/15\n",
            "235/235 [==============================] - 2s 7ms/step - loss: 0.1742 - val_loss: 0.1649\n",
            "Epoch 4/15\n",
            "235/235 [==============================] - 2s 7ms/step - loss: 0.1607 - val_loss: 0.1546\n",
            "Epoch 5/15\n",
            "235/235 [==============================] - 2s 7ms/step - loss: 0.1527 - val_loss: 0.1488\n",
            "Epoch 6/15\n",
            "235/235 [==============================] - 2s 7ms/step - loss: 0.1481 - val_loss: 0.1457\n",
            "Epoch 7/15\n",
            "235/235 [==============================] - 2s 7ms/step - loss: 0.1454 - val_loss: 0.1433\n",
            "Epoch 8/15\n",
            "235/235 [==============================] - 2s 7ms/step - loss: 0.1434 - val_loss: 0.1414\n",
            "Epoch 9/15\n",
            "235/235 [==============================] - 2s 7ms/step - loss: 0.1417 - val_loss: 0.1399\n",
            "Epoch 10/15\n",
            "235/235 [==============================] - 2s 7ms/step - loss: 0.1402 - val_loss: 0.1385\n",
            "Epoch 11/15\n",
            "235/235 [==============================] - 2s 7ms/step - loss: 0.1389 - val_loss: 0.1372\n",
            "Epoch 12/15\n",
            "235/235 [==============================] - 2s 7ms/step - loss: 0.1377 - val_loss: 0.1359\n",
            "Epoch 13/15\n",
            "235/235 [==============================] - 2s 7ms/step - loss: 0.1366 - val_loss: 0.1348\n",
            "Epoch 14/15\n",
            "235/235 [==============================] - 2s 7ms/step - loss: 0.1357 - val_loss: 0.1340\n",
            "Epoch 15/15\n",
            "235/235 [==============================] - 2s 7ms/step - loss: 0.1350 - val_loss: 0.1332\n"
          ]
        },
        {
          "data": {
            "text/plain": [
              "<keras.callbacks.History at 0x226c473de80>"
            ]
          },
          "execution_count": 9,
          "metadata": {},
          "output_type": "execute_result"
        }
      ],
      "source": [
        "autoencoder.fit(x_train, x_train, epochs=15, batch_size=256,validation_data=(x_test, x_test))"
      ]
    },
    {
      "cell_type": "code",
      "execution_count": null,
      "id": "a8e5dda1",
      "metadata": {
        "id": "a8e5dda1"
      },
      "outputs": [],
      "source": [
        "encoded_img = encoder.predict(x_test)"
      ]
    },
    {
      "cell_type": "code",
      "execution_count": null,
      "id": "5feaefb7",
      "metadata": {
        "id": "5feaefb7",
        "outputId": "d8b88a59-c1ab-4c30-82ad-370fe1d6ce7b"
      },
      "outputs": [
        {
          "data": {
            "text/plain": [
              "<matplotlib.image.AxesImage at 0x226c8cc3940>"
            ]
          },
          "execution_count": 11,
          "metadata": {},
          "output_type": "execute_result"
        },
        {
          "data": {
            "image/png": "[encoded data removed]",
            "text/plain": [
              "<Figure size 432x288 with 1 Axes>"
            ]
          },
          "metadata": {
            "needs_background": "light"
          },
          "output_type": "display_data"
        }
      ],
      "source": [
        "plt.imshow(encoded_img[0].reshape(3,5))"
      ]
    },
    {
      "cell_type": "code",
      "execution_count": null,
      "id": "c3d225ce",
      "metadata": {
        "id": "c3d225ce"
      },
      "outputs": [],
      "source": [
        "decoded_img = decoder.predict(encoded_img)"
      ]
    },
    {
      "cell_type": "code",
      "execution_count": null,
      "id": "07387254",
      "metadata": {
        "id": "07387254",
        "outputId": "b6b98cc3-5088-4e14-91df-18c08f433ec7"
      },
      "outputs": [
        {
          "data": {
            "text/plain": [
              "<matplotlib.image.AxesImage at 0x226c8d87430>"
            ]
          },
          "execution_count": 13,
          "metadata": {},
          "output_type": "execute_result"
        },
        {
          "data": {
            "image/png": "[encoded data removed]",
            "text/plain": [
              "<Figure size 432x288 with 1 Axes>"
            ]
          },
          "metadata": {
            "needs_background": "light"
          },
          "output_type": "display_data"
        }
      ],
      "source": [
        "plt.imshow(decoded_img [0].reshape(28,28))"
      ]
    },
    {
      "cell_type": "code",
      "execution_count": null,
      "id": "412d2aed",
      "metadata": {
        "id": "412d2aed",
        "outputId": "50a60c3b-9826-43c1-b706-d6d2418a655b"
      },
      "outputs": [
        {
          "data": {
            "image/png": "[encoded data removed]",
            "text/plain": [
              "<Figure size 1440x288 with 10 Axes>"
            ]
          },
          "metadata": {
            "needs_background": "light"
          },
          "output_type": "display_data"
        }
      ],
      "source": [
        "plt.figure(figsize=(20, 4))\n",
        "for i in range(5):\n",
        "    # Display original\n",
        "    ax = plt.subplot(2, 5, i + 1)\n",
        "    plt.imshow(x_test[i].reshape(28, 28))\n",
        "    plt.gray()\n",
        "    ax.get_xaxis().set_visible(False)\n",
        "    ax.get_yaxis().set_visible(False)\n",
        "\n",
        "    # Display reconstruction\n",
        "    ax = plt.subplot(2, 5, i + 1 + 5)\n",
        "    plt.imshow(decoded_img[i].reshape(28, 28))\n",
        "    plt.gray()\n",
        "    ax.get_xaxis().set_visible(False)\n",
        "    ax.get_yaxis().set_visible(False)\n",
        "plt.show()"
      ]
    },
    {
      "cell_type": "code",
      "execution_count": null,
      "id": "b01e95e6",
      "metadata": {
        "id": "b01e95e6"
      },
      "outputs": [],
      "source": []
    },
    {
      "cell_type": "code",
      "execution_count": null,
      "id": "9fa42f07",
      "metadata": {
        "id": "9fa42f07"
      },
      "outputs": [],
      "source": []
    },
    {
      "cell_type": "code",
      "execution_count": null,
      "id": "9189b1f2",
      "metadata": {
        "id": "9189b1f2"
      },
      "outputs": [],
      "source": []
    },
    {
      "cell_type": "code",
      "execution_count": null,
      "id": "0423ffb0",
      "metadata": {
        "id": "0423ffb0"
      },
      "outputs": [],
      "source": []
    },
    {
      "cell_type": "code",
      "execution_count": null,
      "id": "ee4337b5",
      "metadata": {
        "id": "ee4337b5"
      },
      "outputs": [],
      "source": []
    },
    {
      "cell_type": "code",
      "execution_count": null,
      "id": "0da83192",
      "metadata": {
        "id": "0da83192"
      },
      "outputs": [],
      "source": []
    },
    {
      "cell_type": "code",
      "execution_count": null,
      "id": "edd7cc7e",
      "metadata": {
        "id": "edd7cc7e"
      },
      "outputs": [],
      "source": []
    },
    {
      "cell_type": "code",
      "execution_count": null,
      "id": "fc7fac4d",
      "metadata": {
        "id": "fc7fac4d"
      },
      "outputs": [],
      "source": []
    }
  ],
  "metadata": {
    "kernelspec": {
      "display_name": "Python 3 (ipykernel)",
      "language": "python",
      "name": "python3"
    },
    "language_info": {
      "codemirror_mode": {
        "name": "ipython",
        "version": 3
      },
      "file_extension": ".py",
      "mimetype": "text/x-python",
      "name": "python",
      "nbconvert_exporter": "python",
      "pygments_lexer": "ipython3",
      "version": "3.9.12"
    },
    "colab": {
      "provenance": [],
      "include_colab_link": true
    }
  },
  "nbformat": 4,
  "nbformat_minor": 5
}